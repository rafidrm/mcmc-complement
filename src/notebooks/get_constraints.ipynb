{
 "cells": [
  {
   "cell_type": "code",
   "execution_count": 1,
   "metadata": {},
   "outputs": [],
   "source": [
    "import numpy as np\n",
    "import scipy\n",
    "from scipy.optimize import NonlinearConstraint, minimize"
   ]
  },
  {
   "cell_type": "code",
   "execution_count": null,
   "metadata": {},
   "outputs": [],
   "source": []
  },
  {
   "cell_type": "code",
   "execution_count": null,
   "metadata": {},
   "outputs": [],
   "source": [
    "# Generates the constraints in the pentagon feasible set.\n",
    "\n",
    "norm_constraint = NonlinearConstraint(np.linalg.norm, lb = 0.9999, ub=1.0000)\n",
    "def a1_hyperplane(x):\n",
    "    return x[0] * (4 - 1.26) + x[1] * (0 - 3.79)\n",
    "\n",
    "def a2_hyperplane(x):\n",
    "    return x[0] * (1.26 + 3.2) + x[1] * (3.79 - 2.39)\n",
    "\n",
    "def a3_hyperplane(x):\n",
    "    return x[0] * (-3.2 + 3.28) + x[1] * (2.39 + 2.28)\n",
    "\n",
    "def a4_hyperplane(x):\n",
    "    return x[0] * (-3.28 - 1.13) + x[1] * (-2.28 + 3.83)\n",
    "\n",
    "def a5_hyperplane(x):\n",
    "    return x[0] * (1.13 - 4) + x[1] * (-3.83 - 0)\n",
    "\n",
    "a1_constraint = NonlinearConstraint(a1_hyperplane, lb=0, ub=99)\n",
    "a2_constraint = NonlinearConstraint(a2_hyperplane, lb=0, ub=99)\n",
    "a3_constraint = NonlinearConstraint(a3_hyperplane, lb=0, ub=99)\n",
    "a4_constraint = NonlinearConstraint(a4_hyperplane, lb=0, ub=99)\n",
    "a5_constraint = NonlinearConstraint(a5_hyperplane, lb=0, ub=99)\n",
    "\n",
    "params = [\n",
    "    (a1_hyperplane, a1_constraint, (4, 0)),\n",
    "    (a2_hyperplane, a2_constraint, (1.26, 3.79)),\n",
    "    (a3_hyperplane, a3_constraint, (-3.2, 2.39)),\n",
    "    (a4_hyperplane, a4_constraint, (-3.28, -2.28)),\n",
    "    (a5_hyperplane, a5_constraint, (1.13, -3.83)),\n",
    "]\n",
    "\n",
    "A_mat = []\n",
    "b_vec = []\n",
    "for hyperplane, constraint, point in params:\n",
    "    res = minimize(hyperplane, x0=[1,1], constraints=(norm_constraint, constraint))\n",
    "    a = res['x']\n",
    "\n",
    "    b = a[0] * point[0] + a[1] * point[1]\n",
    "    A_mat.append(a)\n",
    "    b_vec.append(b)\n",
    "\n",
    "A_mat = np.array(A_mat)\n",
    "b_vec = np.array(b_vec)\n",
    "print(A_mat)\n",
    "print(b_vec)\n"
   ]
  },
  {
   "cell_type": "code",
   "execution_count": 2,
   "metadata": {},
   "outputs": [
    {
     "name": "stdout",
     "output_type": "stream",
     "text": [
      "[[-0.25       -0.18073879]\n",
      " [ 0.09247394 -0.29459556]\n",
      " [ 0.30855225 -0.00528569]\n",
      " [ 0.10238592  0.29130446]\n",
      " [-0.25        0.18733681]]\n"
     ]
    }
   ],
   "source": [
    "X1 = np.array([\n",
    "    [4, 0],\n",
    "    [1.26, 3.79],\n",
    "])\n",
    "X2 = np.array([\n",
    "    [1.26, 3.79],\n",
    "    [-3.2, 2.39],\n",
    "])\n",
    "X3 = np.array([\n",
    "    [-3.2, 2.39],\n",
    "    [-3.28, -2.28],\n",
    "])\n",
    "X4 = np.array([\n",
    "    [-3.28, -2.28],\n",
    "    [1.13, -3.83],\n",
    "])\n",
    "X5 = np.array([\n",
    "    [1.13, -3.83],\n",
    "    [4, 0],\n",
    "])\n",
    "Xs = [X1, X2, X3, X4, X5]\n",
    "ones = np.array([1, 1])\n",
    "\n",
    "A_mat = []\n",
    "b_vec = -1 * np.ones(5)\n",
    "for X in Xs:\n",
    "    A_mat.append(np.linalg.solve(X, ones))\n",
    "A_mat = np.array(A_mat)\n",
    "A_mat = -1 * A_mat\n",
    "print(A_mat)"
   ]
  },
  {
   "cell_type": "code",
   "execution_count": 3,
   "metadata": {},
   "outputs": [
    {
     "name": "stdout",
     "output_type": "stream",
     "text": [
      "[-1.          0.36989577  1.234209    0.40954369 -1.        ]\n",
      "[ True  True  True  True  True]\n",
      "[-1.         -1.          0.36874306  1.23305018  0.39500653]\n",
      "[ True  True  True  True  True]\n",
      "[ 0.3680343  -1.         -1.          0.36858271  1.24773499]\n",
      "[ True  True False  True  True]\n",
      "[ 1.23208443  0.36836334 -1.         -1.          0.39287206]\n",
      "[ True  True  True  True  True]\n",
      "[ 0.40972955  1.23279654  0.36890824 -1.         -1.        ]\n",
      "[ True  True  True  True  True]\n"
     ]
    }
   ],
   "source": [
    "all_pts = [[4, 0], [1.26, 3.79], [-3.2, 2.39], [-3.28, -2.28], [1.13, -3.83]]\n",
    "for pt in all_pts:\n",
    "    print(np.dot(A_mat, pt))\n",
    "    print(np.dot(A_mat, pt) >= -1)\n"
   ]
  },
  {
   "cell_type": "code",
   "execution_count": 4,
   "metadata": {},
   "outputs": [],
   "source": [
    "init_pt = 0.5 * np.array([4, 0]) + 0.5 * np.array([1.26, 3.79])\n",
    "\n",
    "def direction_sample_helper(con):\n",
    "    ''' Samples a random point from the unit ball then checks with\n",
    "    the a vector that con'pt > 0\n",
    "    '''\n",
    "    wrong_direction = 1\n",
    "    while wrong_direction == 1:\n",
    "        pt = np.random.rand(2) - 0.5\n",
    "        pt = pt / np.linalg.norm(pt)\n",
    "        if np.dot(con, pt) >= 0:\n",
    "            wrong_direction = 0\n",
    "    return pt\n",
    "\n",
    "def direction_sample(A_mat, bd_pt):\n",
    "    ''' First identifies the relevant constraint on the boundary,\n",
    "    then calls sample helper.\n",
    "    '''\n",
    "    ind = list(np.isclose(np.dot(A_mat, bd_pt), -1)).index(True)\n",
    "    con = A_mat[ind]\n",
    "    return direction_sample_helper(con)\n",
    "\n",
    "def get_next_bd_pt(A_mat, bd_pt, dir_pt):\n",
    "    ''' First removes boundary constraints, then finds nearest\n",
    "    boundary.\n",
    "    '''\n",
    "    weights = np.array([(-1 - np.dot(ai, bd_pt)) / np.dot(ai, dir_pt) for ai in A_mat])\n",
    "    weights[weights <= 0] = 99\n",
    "    weight = min(weights)\n",
    "\n",
    "    return bd_pt + weight * dir_pt\n",
    "\n",
    "\n",
    "#r = direction_sample(A_mat, init_pt)\n",
    "#bd_pt = get_next_bd_pt(A_mat, init_pt, r)\n",
    "#print(bd_pt)\n",
    "#print(np.dot(A_mat, bd_pt))\n",
    "#print(np.dot(A_mat, bd_pt) >= -1.0001)"
   ]
  },
  {
   "cell_type": "code",
   "execution_count": 5,
   "metadata": {},
   "outputs": [],
   "source": [
    "init_pt = 0.5 * np.array([4, 0]) + 0.5 * np.array([1.26, 3.79])\n",
    "\n",
    "def shake_n_bake(A_mat, init_pt, n=10):\n",
    "    '''\n",
    "    1. randomly sample direction vector (r)\n",
    "    2. randomly sample magnitude (xi)\n",
    "    3. add infeasible point (y - xi * r, y)\n",
    "    4. get next boundary point\n",
    "    '''\n",
    "    dataset = []\n",
    "    bd_pt = init_pt\n",
    "    while len(dataset) < n:\n",
    "        r = direction_sample(A_mat, bd_pt)\n",
    "        xi = np.random.exponential()\n",
    "        infeas_pt = bd_pt - xi * r\n",
    "        dataset.append((infeas_pt, bd_pt))\n",
    "        bd_pt = get_next_bd_pt(A_mat, bd_pt, r)\n",
    "    return dataset\n",
    "\n",
    "dataset = shake_n_bake(A_mat, init_pt, n=500)\n"
   ]
  },
  {
   "cell_type": "code",
   "execution_count": 8,
   "metadata": {},
   "outputs": [
    {
     "data": {
      "text/plain": [
       "<matplotlib.collections.PathCollection at 0x11ef71390>"
      ]
     },
     "execution_count": 8,
     "metadata": {},
     "output_type": "execute_result"
    },
    {
     "data": {
      "image/png": "[encoded data removed]",
      "text/plain": [
       "<Figure size 432x288 with 1 Axes>"
      ]
     },
     "metadata": {
      "needs_background": "light"
     },
     "output_type": "display_data"
    }
   ],
   "source": [
    "import matplotlib.pyplot as plt\n",
    "\n",
    "infeas_pts, bd_pts = zip(*dataset)\n",
    "x, y = zip(*infeas_pts)\n",
    "\n",
    "plt.scatter(x, y)\n",
    "\n",
    "x2, y2 = zip(*bd_pts)\n",
    "plt.scatter(x2, y2, alpha=0.1)\n"
   ]
  },
  {
   "cell_type": "code",
   "execution_count": 13,
   "metadata": {},
   "outputs": [
    {
     "name": "stdout",
     "output_type": "stream",
     "text": [
      "[-10, -5, 0, 5, 10]\n"
     ]
    }
   ],
   "source": [
    "print(list(range(-10, 11, 5)))\n"
   ]
  },
  {
   "cell_type": "code",
   "execution_count": null,
   "metadata": {},
   "outputs": [],
   "source": []
  }
 ],
 "metadata": {
  "kernelspec": {
   "display_name": "Python 3",
   "language": "python",
   "name": "python3"
  },
  "language_info": {
   "codemirror_mode": {
    "name": "ipython",
    "version": 3
   },
   "file_extension": ".py",
   "mimetype": "text/x-python",
   "name": "python",
   "nbconvert_exporter": "python",
   "pygments_lexer": "ipython3",
   "version": "3.7.3"
  }
 },
 "nbformat": 4,
 "nbformat_minor": 2
}
