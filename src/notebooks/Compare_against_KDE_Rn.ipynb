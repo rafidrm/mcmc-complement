{
 "cells": [
  {
   "cell_type": "code",
   "execution_count": 1,
   "metadata": {},
   "outputs": [
    {
     "data": {
      "text/plain": [
       "'\\nWe simulate simplxes and relaxations of simplexes and compare MCMC with KDE sampler.\\n'"
      ]
     },
     "execution_count": 1,
     "metadata": {},
     "output_type": "execute_result"
    }
   ],
   "source": [
    "\"\"\"\n",
    "We simulate simplxes and relaxations of simplexes and compare MCMC with KDE sampler.\n",
    "\"\"\""
   ]
  },
  {
   "cell_type": "code",
   "execution_count": 2,
   "metadata": {},
   "outputs": [],
   "source": [
    "import matplotlib.pyplot as plt\n",
    "import matplotlib as mpl\n",
    "import numpy as np\n",
    "from pathlib import Path\n",
    "import pulp\n",
    "from sklearn.decomposition import PCA\n",
    "from sklearn.model_selection import train_test_split\n",
    "from sklearn.svm import SVC, LinearSVC\n",
    "from sklearn.ensemble import RandomForestClassifier, AdaBoostClassifier, GradientBoostingClassifier \n",
    "from sklearn.mixture import GaussianMixture\n",
    "from sklearn.metrics import confusion_matrix\n",
    "from sklearn.model_selection import GridSearchCV\n",
    "from sklearn.neighbors import KernelDensity\n",
    "from tqdm import tqdm\n",
    "from pprint import pprint\n",
    "\n",
    "\n",
    "from IPython.core.debugger import set_trace"
   ]
  },
  {
   "cell_type": "code",
   "execution_count": 3,
   "metadata": {},
   "outputs": [],
   "source": [
    "ATOL = 1e-5\n",
    "RTOL = 1.0000001e-3\n",
    "DEFAULT_ATOL = 1e-8\n",
    "DEFAULT_RTOL = 1.00000001e-5\n",
    "\n",
    "\n",
    "def lp_solver(c_vec, A_mat, b_vec):\n",
    "    prob = pulp.LpProblem('prob', pulp.LpMinimize)\n",
    "    m, n = A_mat.shape\n",
    "    x = [pulp.LpVariable('x{}'.format(ix)) for ix in range(n)]\n",
    "    prob += pulp.lpSum([ ci * xi for ci, xi in zip(c_vec, x) ])\n",
    "    for ix in range(m):\n",
    "        prob += pulp.lpSum([ ai * xi for ai, xi in zip(A_mat[ix], x) ]) >= b_vec[ix], 'con{}'.format(ix)\n",
    "    prob.solve(pulp.GLPK(msg=0))\n",
    "    if prob.status in [1, -2, -3]:\n",
    "        x_vec = np.array([ xi.varValue for xi in x ])\n",
    "        return x_vec\n",
    "    else:\n",
    "        return None\n",
    "\n",
    "\n",
    "def hit_n_run_init(c_vec, A_mat, b_vec):\n",
    "    \"\"\"\n",
    "    Generate an initial decision in the interior of the feasible set.\n",
    "    \"\"\"\n",
    "    n = len(c_vec)\n",
    "    vtx0 = lp_solver(\n",
    "        np.zeros(n),\n",
    "        A_mat,\n",
    "        b_vec + np.random.exponential(scale=1e-1)\n",
    "    )\n",
    "    vertices = [vtx0]\n",
    "    for row in A_mat:\n",
    "        vtx2 = lp_solver(\n",
    "            row,\n",
    "            A_mat,\n",
    "            b_vec\n",
    "        )\n",
    "        if vtx2 is None:\n",
    "            continue\n",
    "\n",
    "        for vtx in vertices:\n",
    "            if np.isclose(vtx, vtx2, rtol=RTOL, atol=ATOL).all() == True:\n",
    "                continue\n",
    "\n",
    "        vertices.append(vtx2)\n",
    "        init_pt = np.mean(np.array(vertices), axis=0)\n",
    "        if is_bd(A_mat, b_vec, init_pt, rtol=DEFAULT_RTOL, atol=DEFAULT_ATOL) == True:\n",
    "            continue\n",
    "        else:\n",
    "            break\n",
    "    if is_bd(A_mat, b_vec, init_pt, rtol=DEFAULT_RTOL, atol=DEFAULT_ATOL) == True:\n",
    "        raise Exception('Convex combination is still boundary')\n",
    "    return init_pt\n",
    "\n",
    "\n",
    "def hit_n_run(c_vec, A_mat, b_vec, n_samples=200, verbose=True):\n",
    "    \"\"\" Hit and Run Sampler:\n",
    "\n",
    "        1. Sample current point x\n",
    "        2. Generate a random direction r and make sure that x - r is feasible\n",
    "        3. Solve max { lambda | A (x - lambda * r) >= b }\n",
    "        4. Sample uniformly from [0, lambda]\n",
    "    \"\"\"\n",
    "    m, n = A_mat.shape\n",
    "    curr_pt = hit_n_run_init(c_vec, A_mat, b_vec)\n",
    "    pts = [curr_pt]\n",
    "    loop_sampler = range(n_samples)\n",
    "    if verbose == True:\n",
    "        loop_sampler = tqdm(loop_sampler)\n",
    "    for _ in loop_sampler:\n",
    "        direction = ( np.random.rand(n) - 0.5 )\n",
    "        # push it a little bit to be feasible\n",
    "        A_x = np.dot(A_mat, curr_pt) - b_vec \n",
    "        A_direction = np.dot(A_mat, direction)\n",
    "        search_ub = pulp.LpProblem('search_ub', pulp.LpMaximize)\n",
    "        gamma = pulp.LpVariable('gamma')\n",
    "        # upper bound of search range\n",
    "        search_ub += gamma\n",
    "        for ix in range(m):\n",
    "            search_ub += gamma * A_direction[ix] <= A_x[ix]\n",
    "        search_ub.solve(pulp.GLPK(msg=0))\n",
    "        if search_ub.status == 1:\n",
    "            max_magnitude = gamma.varValue * 0.99\n",
    "        elif search_ub.status in [-2, -3]:\n",
    "            max_magnitude = 1e16\n",
    "        else:\n",
    "            max_magnitude = 0\n",
    "        # lower bound of search range\n",
    "        search_lb = pulp.LpProblem('search_lb', pulp.LpMinimize)\n",
    "        gamma = pulp.LpVariable('gamma')\n",
    "        search_lb += gamma\n",
    "        for ix in range(m):\n",
    "            search_lb += gamma * A_direction[ix] <= A_x[ix]\n",
    "        search_lb.solve(pulp.GLPK(msg=0))\n",
    "        if search_lb.status == 1:\n",
    "            min_magnitude = gamma.varValue * 0.99\n",
    "        elif search_lb.status in [-2, -3]:\n",
    "            min_magnitude = -1e16\n",
    "        else:\n",
    "            min_magnitude = 0\n",
    "        magnitude = np.random.uniform(low=min_magnitude, high=max_magnitude)\n",
    "        curr_pt = curr_pt - magnitude * direction\n",
    "        if is_feasible(A_mat, b_vec, curr_pt):\n",
    "            pts.append(curr_pt)\n",
    "    if len(pts) < min(0.1 * n_samples, 100):\n",
    "        raise Exception(\n",
    "            'Sampled {} points instead of {}'.format(len(pts), 0.5 * n_samples)\n",
    "        )\n",
    "    print('Sampled {} points for HR'.format(len(pts)))\n",
    "    return pts\n",
    "\n",
    "\n",
    "def direction_sample_helper(cons):\n",
    "    \"\"\" Samples a random point from the unit ball then checks with\n",
    "    the a vector that con'pt > 0\n",
    "    \"\"\"\n",
    "    wrong_direction = 1\n",
    "    n = len(cons[0])\n",
    "    while wrong_direction == 1:\n",
    "        pt = np.random.rand(n) - 0.5\n",
    "        pt = pt / np.linalg.norm(pt)\n",
    "        if all([np.dot(con, pt) >= 0 for con in cons]):\n",
    "            wrong_direction = 0\n",
    "    return pt\n",
    "\n",
    "\n",
    "def direction_sample(A_mat, b_vec, bd_pt):\n",
    "    \"\"\" First identifies the relevant constraint on the boundary,\n",
    "    then calls sample helper.\n",
    "    \"\"\"\n",
    "    delta = np.abs(np.dot(A_mat, bd_pt) - b_vec)\n",
    "    cons = [ A_mat[ix] for ix in range(len(delta)) if delta[ix] < ATOL ]\n",
    "    assert len(cons) > 0, 'This is not a boundary point.'\n",
    "    #ind = np.argmin(delta)\n",
    "    #val = np.min(delta)\n",
    "    #if val > ATOL:\n",
    "    #    print('No boundary, gap is {}'.format(val))\n",
    "    #con = A_mat[ind]\n",
    "    return direction_sample_helper(cons)\n",
    "\n",
    "\n",
    "def get_next_bd_pt(A_mat, b_vec, bd_pt, dir_pt):\n",
    "    \"\"\" First removes boundary constraints, then finds nearest\n",
    "    boundary.\n",
    "    \"\"\"\n",
    "    weights = np.array([(bi - np.dot(ai, bd_pt)) / np.dot(ai, dir_pt) for ai, bi in zip(A_mat, b_vec)])\n",
    "    if all(weights <= 0):\n",
    "        weight = 0\n",
    "    else:\n",
    "        weights[weights <= 0] = 1e12\n",
    "        weight = min(weights)\n",
    "    tmp = bd_pt + weight * dir_pt\n",
    "    if is_bd(A_mat, b_vec, tmp) == False:\n",
    "        print('not bd.')\n",
    "\n",
    "    return bd_pt + weight * dir_pt\n",
    "\n",
    "\n",
    "def shuffle_A_b(A_mat, b_vec):\n",
    "    \"\"\"\n",
    "    Shuffle the rows of the A matrix and b vector accordingly.\n",
    "    \"\"\"\n",
    "    m, n = A_mat.shape\n",
    "    A_new = np.zeros((m, n))\n",
    "    b_new = np.zeros(m)\n",
    "    reorder = np.random.permutation(list(range(m)))\n",
    "    for i, j in enumerate(reorder):\n",
    "        A_new[i] = A_mat[j]\n",
    "        b_new[i] = b_vec[j]\n",
    "    return A_new, b_new\n",
    "\n",
    "\n",
    "def shake_n_bake_infeas(A_mat, b_vec, init_pt, n_samples=10, scale=1, b_hid=[0], verbose=True):\n",
    "    \"\"\"\n",
    "    1. randomly sample direction vector (r)\n",
    "    2. randomly sample magnitude (xi)\n",
    "    3. add infeasible point (y - xi * r, y)\n",
    "    4. get next boundary point\n",
    "    \"\"\"\n",
    "    if all(b_hid) == 0:\n",
    "        b_hid = b_vec\n",
    "    dataset = []\n",
    "    bd_pt = init_pt\n",
    "    loop_sampler = range(n_samples)\n",
    "    if verbose == True:\n",
    "        loop_sampler = tqdm(loop_sampler)\n",
    "    for ix in loop_sampler:\n",
    "        r = direction_sample(A_mat, b_vec, bd_pt)\n",
    "        xi = np.random.exponential(scale=scale)\n",
    "        infeas_pt = bd_pt - xi * r\n",
    "        if is_feasible(A_mat, b_hid, infeas_pt) == False:\n",
    "            dataset.append(infeas_pt)\n",
    "            assert is_bd(A_mat, b_vec, bd_pt), 'sb using not bd.'\n",
    "        else:\n",
    "            print('shake n bake found feasible pt.')\n",
    "            # pass\n",
    "        bd_pt = get_next_bd_pt(A_mat, b_vec, bd_pt, r)\n",
    "    return np.array(dataset)\n",
    "\n",
    "\n",
    "def shake_n_bake_init(c_vec, A_mat, b_vec):\n",
    "    m, n = A_mat.shape\n",
    "    init_pt = lp_solver(c_vec, A_mat, b_vec)\n",
    "    if init_pt is None:\n",
    "        raise Exception('Could not initialize shake_n_bake')\n",
    "    return init_pt\n",
    "\n",
    "\n",
    "def is_feasible(A_mat, b_vec, pt, tol=1e-5):\n",
    "    # Assuming inequality form\n",
    "    true_tol = np.linalg.norm(b_vec) * tol\n",
    "    if (np.dot(A_mat, pt) >= b_vec - true_tol).all():\n",
    "        return True\n",
    "    else:\n",
    "        return False\n",
    "\n",
    "\n",
    "def is_bd(A_mat, b_vec, pt, rtol=RTOL, atol=ATOL):\n",
    "    # Assuming inequality form\n",
    "    if is_feasible(A_mat, b_vec, pt) == False:\n",
    "        return False\n",
    "    if np.isclose(np.dot(A_mat, pt), b_vec, rtol=rtol, atol=atol).any():\n",
    "        return True\n",
    "    else:\n",
    "        return False\n",
    "\n",
    "    \n",
    "def mcmc_test_set(A_mat, b_vec, n_samples=200, scale=1, verbose=True):\n",
    "    \"\"\"\n",
    "    Will generate feasible points using hitnrun.\n",
    "    and infeasible points using shakenbake and projection.\n",
    "    \"\"\"\n",
    "    c_vec = np.random.randn(len(b_vec))\n",
    "    A_mat, b_vec = shuffle_A_b(A_mat, b_vec)\n",
    "    feas_n_samples = int(n_samples / 2)\n",
    "    mcmc_n_samples = int(n_samples / 2) \n",
    "    feas_pts = hit_n_run(\n",
    "        c_vec,\n",
    "        A_mat,\n",
    "        b_vec,\n",
    "        n_samples=feas_n_samples,\n",
    "        verbose=verbose,\n",
    "    )\n",
    "    feas_pts = np.array(feas_pts)\n",
    "\n",
    "    init_pt = shake_n_bake_init(c_vec, A_mat, b_vec)\n",
    "    mcmc_infeas_pts = shake_n_bake_infeas(\n",
    "        A_mat,\n",
    "        b_vec,\n",
    "        init_pt,\n",
    "        n_samples=mcmc_n_samples,\n",
    "        scale=scale,\n",
    "        verbose=verbose,\n",
    "    )\n",
    "    \n",
    "    X_test = np.vstack([feas_pts, mcmc_infeas_pts])\n",
    "    y_test = []\n",
    "    for xi in X_test:\n",
    "        y_test.append(int(is_feasible(A_mat, b_vec, xi)))\n",
    "    print(\n",
    "        'Generated {} feasible and {} infeasible pts for testing.'.format(\n",
    "            np.sum(y_test),\n",
    "            len(y_test) - np.sum(y_test),\n",
    "        )\n",
    "    )\n",
    "    return X_test, np.array(y_test)"
   ]
  },
  {
   "cell_type": "code",
   "execution_count": 4,
   "metadata": {},
   "outputs": [],
   "source": [
    "def get_simplex_constraints(n=2, size=-1, scale=1):\n",
    "    A_mat = [ -1 * np.ones(n) ]\n",
    "    for ix in range(n):\n",
    "        row = np.zeros(n)\n",
    "        row[ix] = 1\n",
    "        A_mat.append(row)\n",
    "    b_vec = np.zeros(n+1)\n",
    "    b_vec[0] = size\n",
    "    b_relax = b_vec - np.random.exponential(scale=scale)\n",
    "    return np.array(A_mat), b_vec, b_relax\n",
    "\n",
    "\n",
    "def train_and_test_classifier(feas_pts, infeas_pts, X_test, y_test, model=SVC, verbose=True):\n",
    "    X_train = np.vstack((feas_pts, infeas_pts))\n",
    "    feas_labels = np.array([np.ones(len(feas_pts))]).T\n",
    "    infeas_labels = np.array([np.zeros(len(infeas_pts))]).T\n",
    "    y_train = np.vstack(\n",
    "        (feas_labels, infeas_labels)\n",
    "    ).T[0]\n",
    "    clf = model()\n",
    "    clf.fit(X_train, y_train)\n",
    "    acc = clf.score(X_test, y_test)\n",
    "    tn, fp, fn, tp = confusion_matrix(y_test, clf.predict(X_test)).ravel()\n",
    "    if verbose == True:\n",
    "        print('Test set score = {}'.format(acc))\n",
    "        print('TP = {} FP = {}'.format(tp, fp))\n",
    "        print('FN = {} TN = {}'.format(fn, tn))\n",
    "\n",
    "    return acc\n",
    "\n",
    "\n",
    "def train_and_test_kde(feas_pts, X_test, y_test, verbose=True):\n",
    "    pca = PCA(0.95)\n",
    "    X_train = pca.fit_transform(feas_pts)\n",
    "    \n",
    "    # use grid search cross-validation to optimize the bandwidth\n",
    "    accs = []\n",
    "    n_bandwidths = [0.005, 0.01, 0.1, 0.5, 1, 5, 10, 50, 100 ]\n",
    "    for bw in n_bandwidths:\n",
    "        kde = KernelDensity(bandwidth=bw)\n",
    "        try:\n",
    "            kde.fit(X_train)\n",
    "            \n",
    "            min_pred = np.min(-1 / kde.score_samples(X_train))\n",
    "            y_pred = -1 / kde.score_samples(pca.transform(X_test))\n",
    "            y_pred[y_pred > min_pred] = 1\n",
    "            y_pred[y_pred < min_pred] = 0\n",
    "            \n",
    "            acc = 1 - np.mean(np.abs(y_test - y_pred))\n",
    "            tn, fp, fn, tp = confusion_matrix(y_test, y_pred).ravel()\n",
    "            if verbose == True:\n",
    "                print('Test set score = {}'.format(acc))\n",
    "                print('TP = {} FP = {}'.format(tp, fp))\n",
    "                print('FN = {} TN = {}'.format(fn, tn))\n",
    "            accs.append(acc)\n",
    "        except Exception as inst:\n",
    "            print(inst)\n",
    "    return np.max(accs)\n",
    "\n",
    "\n",
    "def plot_2d_kde(feas_pts):\n",
    "    pca = PCA(0.95)\n",
    "    X_train = pca.fit_transform(feas_pts)\n",
    "    kde = KernelDensity(bandwidth=0.1)\n",
    "    kde.fit(X_train)\n",
    "    min_pred = np.min(-1 / kde.score_samples(X_train))\n",
    "    \n",
    "    xs, ys = np.meshgrid(np.arange(-7, 7, 0.1), np.arange(-7, 7, 0.1))\n",
    "    pred_feas = np.zeros((len(xs), len(ys)))\n",
    "    for i in range(len(xs)):\n",
    "        for j in range(len(ys)):\n",
    "            pred_feas[i, j] = -1 / kde.score_samples(pca.transform([np.array([xs[i, j], ys[i, j]])]))\n",
    "    pred_feas[pred_feas > min_pred] = 1\n",
    "    pred_feas[pred_feas < min_pred] = 0\n",
    "    fig, ax = plt.subplots(figsize=(8, 8))\n",
    "    ax.contour(xs, ys, pred_feas)\n",
    "    ax.tick_params(direction='in')\n",
    "    ax.grid(True, ls='--', alpha=0.1)\n",
    "    ax.set(\n",
    "        xlabel='x', \n",
    "        ylabel='y', \n",
    "    )\n",
    "\n",
    "\n",
    "def plot_2d_results(feas_pts, mcmc_infeas_pts):\n",
    "    feas_pts = feas_pts.T\n",
    "    mcmc_infeas_pts = mcmc_infeas_pts.T\n",
    "    \n",
    "    fig, ax = plt.subplots(figsize=(8, 8))\n",
    "    ax.scatter(feas_pts[0], feas_pts[1])\n",
    "    ax.scatter(mcmc_infeas_pts[0], mcmc_infeas_pts[1])\n",
    "    ax.tick_params(direction='in')\n",
    "    ax.grid(True, ls='--', alpha=0.1)\n",
    "    ax.set(\n",
    "        xlabel='x', \n",
    "        ylabel='y', \n",
    "    )    \n",
    "\n",
    "    \n",
    "def experiment_simplex_2d(n_samples=200, test_n_samples=200, scale=1):\n",
    "    n = 2\n",
    "    A_mat, b_vec, b_relax = get_simplex_constraints(size=-5, scale=scale)\n",
    "    # Generate feasible points via hit n run\n",
    "    feas_pts = hit_n_run(np.random.randn(n), A_mat, b_vec, n_samples=n_samples)\n",
    "    feas_pts = np.array(feas_pts)\n",
    "    feas_check = [ is_feasible(A_mat, b_vec, pt) == True for pt in feas_pts ]\n",
    "    assert all(feas_check), 'Generated infeasible point instead of feasible'\n",
    "    n_samples = len(feas_pts)\n",
    "    # generate SB data\n",
    "    print('Running SB sampler ...')\n",
    "    init_pt = shake_n_bake_init(np.random.randn(n), A_mat, b_relax)\n",
    "    mcmc_infeas_pts = shake_n_bake_infeas(\n",
    "        A_mat,\n",
    "        b_relax,\n",
    "        init_pt,\n",
    "        n_samples=n_samples,\n",
    "        scale=(scale),\n",
    "        b_hid=b_vec,\n",
    "    )\n",
    "    feas_check = [ is_feasible(A_mat, b_vec, pt) == False for pt in mcmc_infeas_pts ]\n",
    "    assert all(feas_check), 'Generated feasible point instead of infeasible'\n",
    "    print('MCMC {} points'.format(len(mcmc_infeas_pts)))\n",
    "    # plot results\n",
    "    plot_2d_results(feas_pts, mcmc_infeas_pts)\n",
    "    plot_2d_kde(feas_pts)\n",
    "    # generate testing data\n",
    "    X_test, y_test = mcmc_test_set(A_mat, b_vec, test_n_samples, scale=1)\n",
    "    train_and_test_kde(feas_pts, X_test, y_test)\n",
    "    train_and_test_classifier(feas_pts, mcmc_infeas_pts, X_test, y_test, RandomForestClassifier)\n",
    "    #train_and_test_classifier(feas_pts, mcmc_infeas_pts, X_test, y_test, AdaBoostClassifier)\n",
    "    #train_and_test_classifier(feas_pts, mcmc_infeas_pts, X_test, y_test, GradientBoostingClassifier)\n"
   ]
  },
  {
   "cell_type": "code",
   "execution_count": null,
   "metadata": {},
   "outputs": [],
   "source": [
    "experiment_simplex_2d(n_samples=500, test_n_samples=200, scale=1)"
   ]
  },
  {
   "cell_type": "code",
   "execution_count": null,
   "metadata": {},
   "outputs": [],
   "source": [
    "\"\"\"\n",
    "What are the experiments that I should run?\n",
    "\n",
    "- n dimensions\n",
    "- scale?\n",
    "- size of \n",
    "\"\"\""
   ]
  },
  {
   "cell_type": "code",
   "execution_count": null,
   "metadata": {},
   "outputs": [],
   "source": [
    "def experiment_sweep_scale():\n",
    "    \"\"\"\n",
    "    Evaluates the effect of the size of the relaxation relative to the \n",
    "    real hidden feasible set. If the relaxation is tighter, then the MCMC-based\n",
    "    classifier works well (and often better than the alternative). However,\n",
    "    if the relaxation is loose, then the MCMC does not work well. This makes\n",
    "    sense, if you have a loose relaxation, there is lots of space to generate a\n",
    "    separation so you are more likely to build a weaker barrier. The KDE-based\n",
    "    approach does not use the relaxation at all, so it is always consistent.\n",
    "    \"\"\"\n",
    "    scales = [1, 2, 3, 4, 5, 6, 7, 8, 9, 10]\n",
    "    n = 2\n",
    "    n_samples = 1000\n",
    "    test_n_samples = 1000\n",
    "    n_tries = 10\n",
    "    results = {}\n",
    "    \n",
    "    for scale_param in scales:\n",
    "        print('*'*80)\n",
    "        print('Testing scale = {}'.format(scale_param))\n",
    "        print('*'*80)\n",
    "        A_mat, b_vec, b_relax = get_simplex_constraints(size=-1, scale=0)\n",
    "        b_relax = b_vec - scale_param\n",
    "        _try = 0\n",
    "        kde_accs = []\n",
    "        snb_accs = []\n",
    "        while _try < n_tries:\n",
    "            try:\n",
    "                # Generate feasible points via hit n run\n",
    "                feas_pts = hit_n_run(\n",
    "                    np.random.randn(n),\n",
    "                    A_mat,\n",
    "                    b_vec,\n",
    "                    n_samples=n_samples,\n",
    "                    verbose=False\n",
    "                )\n",
    "                feas_pts = np.array(feas_pts)\n",
    "                feas_check = [ is_feasible(A_mat, b_vec, pt) == True for pt in feas_pts ]\n",
    "                assert all(feas_check), 'Generated infeasible point instead of feasible'\n",
    "                n_samples = len(feas_pts)\n",
    "\n",
    "                init_pt = shake_n_bake_init(np.random.randn(n), A_mat, b_relax)\n",
    "                mcmc_infeas_pts = shake_n_bake_infeas(\n",
    "                    A_mat,\n",
    "                    b_relax,\n",
    "                    init_pt,\n",
    "                    n_samples=n_samples,\n",
    "                    scale=1,\n",
    "                    b_hid=b_vec,\n",
    "                    verbose=False,\n",
    "                )\n",
    "                feas_check = [\n",
    "                    is_feasible(A_mat, b_vec, pt) == False for pt in mcmc_infeas_pts\n",
    "                ]\n",
    "                assert all(feas_check), 'Generated feasible point instead of infeasible'\n",
    "\n",
    "                X_test, y_test = mcmc_test_set(\n",
    "                    A_mat,\n",
    "                    b_vec,\n",
    "                    test_n_samples,\n",
    "                    scale=1,\n",
    "                    verbose=False\n",
    "                )\n",
    "                kde_acc = train_and_test_kde(\n",
    "                    feas_pts,\n",
    "                    X_test,\n",
    "                    y_test,\n",
    "                    verbose=False\n",
    "                )\n",
    "                snb_acc = train_and_test_classifier(\n",
    "                    feas_pts,\n",
    "                    mcmc_infeas_pts,\n",
    "                    X_test,\n",
    "                    y_test,\n",
    "                    RandomForestClassifier,\n",
    "                    verbose=False\n",
    "                )\n",
    "                kde_accs.append(kde_acc)\n",
    "                snb_accs.append(snb_acc)\n",
    "                _try += 1\n",
    "            except Exception as inst:\n",
    "                print(inst)\n",
    "            results[scale_param] = {\n",
    "                    'kde_acc': np.mean(kde_accs),\n",
    "                    'snb_acc': np.mean(snb_accs),\n",
    "                }\n",
    "\n",
    "    pprint(results)\n",
    "    xs = list(results.keys())\n",
    "    ys_kde = list(results[x]['kde_acc'] for x in results)\n",
    "    ys_snb = list(results[x]['snb_acc'] for x in results)\n",
    "    \n",
    "    fig, ax = plt.subplots(figsize=(8, 8))\n",
    "    ax.plot(xs, ys_kde, label='kde')\n",
    "    ax.plot(xs, ys_snb, label='snb')\n",
    "    ax.tick_params(direction='in')\n",
    "    ax.grid(True, ls='--', alpha=0.1)\n",
    "    ax.set(\n",
    "        xlabel='Size of relaxation (b_relax)', \n",
    "        ylabel='Mean accuracy', \n",
    "    )\n",
    "    ax.legend()\n",
    "\n",
    "experiment_sweep_scale()"
   ]
  },
  {
   "cell_type": "code",
   "execution_count": null,
   "metadata": {},
   "outputs": [],
   "source": [
    "def experiment_sweep_hidden_poly_size():\n",
    "    \"\"\"\n",
    "    Evaluates the effect of the size of the hidden feasible set. This is\n",
    "    more for personal interest. We fix the size of the relaxation relative\n",
    "    to the hidden set and scale the hidden set. We should observe that the \n",
    "    MCMC-classifier has a fixed performance, but the KDE-classifier perhaps\n",
    "    gets better as we increase size? Let's just fix scale at 1?\n",
    "    \n",
    "    Results: MCMC stays fixed at 90% accuracy, but KDE decreases as we\n",
    "    increase size. As expected.\n",
    "    \"\"\"\n",
    "    hidden_sizes = [-0.1, -1, -10, -50, -100]\n",
    "    scale = 1\n",
    "    n = 2\n",
    "    n_samples = 1000\n",
    "    test_n_samples = 1000\n",
    "    n_tries = 10\n",
    "    results = {}\n",
    "    \n",
    "    for size_param in hidden_sizes:\n",
    "        print('*'*80)\n",
    "        print('Testing size = {}'.format(size_param))\n",
    "        print('*'*80)\n",
    "        _try = 0\n",
    "        kde_accs = []\n",
    "        snb_accs = []\n",
    "        while _try < n_tries:\n",
    "            try:\n",
    "                A_mat, b_vec, b_relax = get_simplex_constraints(size=size_param, scale=scale)\n",
    "                # Generate feasible points via hit n run\n",
    "                feas_pts = hit_n_run(\n",
    "                    np.random.randn(n),\n",
    "                    A_mat,\n",
    "                    b_vec,\n",
    "                    n_samples=n_samples,\n",
    "                    verbose=False\n",
    "                )\n",
    "                feas_pts = np.array(feas_pts)\n",
    "                feas_check = [ is_feasible(A_mat, b_vec, pt) == True for pt in feas_pts ]\n",
    "                assert all(feas_check), 'Generated infeasible point instead of feasible'\n",
    "                n_samples = len(feas_pts)\n",
    "\n",
    "                init_pt = shake_n_bake_init(np.random.randn(n), A_mat, b_relax)\n",
    "                mcmc_infeas_pts = shake_n_bake_infeas(\n",
    "                    A_mat,\n",
    "                    b_relax,\n",
    "                    init_pt,\n",
    "                    n_samples=n_samples,\n",
    "                    scale=1,\n",
    "                    b_hid=b_vec,\n",
    "                    verbose=False,\n",
    "                )\n",
    "                feas_check = [\n",
    "                    is_feasible(A_mat, b_vec, pt) == False for pt in mcmc_infeas_pts\n",
    "                ]\n",
    "                assert all(feas_check), 'Generated feasible point instead of infeasible'\n",
    "\n",
    "                X_test, y_test = mcmc_test_set(\n",
    "                    A_mat,\n",
    "                    b_vec,\n",
    "                    test_n_samples,\n",
    "                    scale=1,\n",
    "                    verbose=False\n",
    "                )\n",
    "                kde_acc = train_and_test_kde(\n",
    "                    feas_pts,\n",
    "                    X_test,\n",
    "                    y_test,\n",
    "                    verbose=False\n",
    "                )\n",
    "                snb_acc = train_and_test_classifier(\n",
    "                    feas_pts,\n",
    "                    mcmc_infeas_pts,\n",
    "                    X_test,\n",
    "                    y_test,\n",
    "                    RandomForestClassifier,\n",
    "                    verbose=False\n",
    "                )\n",
    "                kde_accs.append(kde_acc)\n",
    "                snb_accs.append(snb_acc)\n",
    "                _try += 1\n",
    "            except Exception as inst:\n",
    "                print(inst)\n",
    "            results[-1 * size_param] = {\n",
    "                    'kde_acc': np.mean(kde_accs),\n",
    "                    'snb_acc': np.mean(snb_accs),\n",
    "                }\n",
    "\n",
    "    pprint(results)\n",
    "    xs = list(results.keys())\n",
    "    ys_kde = list(results[x]['kde_acc'] for x in results)\n",
    "    ys_snb = list(results[x]['snb_acc'] for x in results)\n",
    "    \n",
    "    fig, ax = plt.subplots(figsize=(8, 8))\n",
    "    ax.semilogx(xs, ys_kde, label='kde')\n",
    "    ax.semilogx(xs, ys_snb, label='snb')\n",
    "    ax.tick_params(direction='in')\n",
    "    ax.grid(True, ls='--', alpha=0.1)\n",
    "    ax.set(\n",
    "        xlabel='Size of feasible set (b_vec)', \n",
    "        ylabel='Mean accuracy', \n",
    "    )\n",
    "    ax.legend()\n",
    "    \n",
    "experiment_sweep_hidden_poly_size()"
   ]
  },
  {
   "cell_type": "code",
   "execution_count": 7,
   "metadata": {},
   "outputs": [
    {
     "name": "stdout",
     "output_type": "stream",
     "text": [
      "********************************************************************************\n",
      "R^4\n",
      "********************************************************************************\n",
      "Sampled 1001 points for HR\n",
      "Sampled 501 points for HR\n",
      "Generated 501 feasible and 500 infeasible pts for testing.\n"
     ]
    },
    {
     "name": "stderr",
     "output_type": "stream",
     "text": [
      "/usr/local/lib/python3.7/site-packages/sklearn/ensemble/forest.py:246: FutureWarning: The default value of n_estimators will change from 10 in version 0.20 to 100 in 0.22.\n",
      "  \"10 in version 0.20 to 100 in 0.22.\", FutureWarning)\n"
     ]
    },
    {
     "name": "stdout",
     "output_type": "stream",
     "text": [
      "Sampled 1002 points for HR\n",
      "Sampled 501 points for HR\n",
      "Generated 501 feasible and 500 infeasible pts for testing.\n"
     ]
    },
    {
     "name": "stderr",
     "output_type": "stream",
     "text": [
      "/usr/local/lib/python3.7/site-packages/sklearn/ensemble/forest.py:246: FutureWarning: The default value of n_estimators will change from 10 in version 0.20 to 100 in 0.22.\n",
      "  \"10 in version 0.20 to 100 in 0.22.\", FutureWarning)\n"
     ]
    },
    {
     "name": "stdout",
     "output_type": "stream",
     "text": [
      "Sampled 1003 points for HR\n",
      "shake n bake found feasible pt.\n",
      "Sampled 501 points for HR\n",
      "Generated 501 feasible and 500 infeasible pts for testing.\n"
     ]
    },
    {
     "name": "stderr",
     "output_type": "stream",
     "text": [
      "/usr/local/lib/python3.7/site-packages/sklearn/ensemble/forest.py:246: FutureWarning: The default value of n_estimators will change from 10 in version 0.20 to 100 in 0.22.\n",
      "  \"10 in version 0.20 to 100 in 0.22.\", FutureWarning)\n"
     ]
    },
    {
     "name": "stdout",
     "output_type": "stream",
     "text": [
      "Sampled 1004 points for HR\n",
      "shake n bake found feasible pt.\n",
      "Sampled 501 points for HR\n",
      "Generated 501 feasible and 500 infeasible pts for testing.\n"
     ]
    },
    {
     "name": "stderr",
     "output_type": "stream",
     "text": [
      "/usr/local/lib/python3.7/site-packages/sklearn/ensemble/forest.py:246: FutureWarning: The default value of n_estimators will change from 10 in version 0.20 to 100 in 0.22.\n",
      "  \"10 in version 0.20 to 100 in 0.22.\", FutureWarning)\n"
     ]
    },
    {
     "name": "stdout",
     "output_type": "stream",
     "text": [
      "Sampled 1005 points for HR\n",
      "Sampled 501 points for HR\n",
      "Generated 501 feasible and 500 infeasible pts for testing.\n"
     ]
    },
    {
     "name": "stderr",
     "output_type": "stream",
     "text": [
      "/usr/local/lib/python3.7/site-packages/sklearn/ensemble/forest.py:246: FutureWarning: The default value of n_estimators will change from 10 in version 0.20 to 100 in 0.22.\n",
      "  \"10 in version 0.20 to 100 in 0.22.\", FutureWarning)\n"
     ]
    },
    {
     "name": "stdout",
     "output_type": "stream",
     "text": [
      "Sampled 1006 points for HR\n",
      "Sampled 501 points for HR\n",
      "Generated 501 feasible and 500 infeasible pts for testing.\n"
     ]
    },
    {
     "name": "stderr",
     "output_type": "stream",
     "text": [
      "/usr/local/lib/python3.7/site-packages/sklearn/ensemble/forest.py:246: FutureWarning: The default value of n_estimators will change from 10 in version 0.20 to 100 in 0.22.\n",
      "  \"10 in version 0.20 to 100 in 0.22.\", FutureWarning)\n"
     ]
    },
    {
     "name": "stdout",
     "output_type": "stream",
     "text": [
      "Sampled 1007 points for HR\n",
      "Sampled 501 points for HR\n",
      "Generated 501 feasible and 500 infeasible pts for testing.\n"
     ]
    },
    {
     "name": "stderr",
     "output_type": "stream",
     "text": [
      "/usr/local/lib/python3.7/site-packages/sklearn/ensemble/forest.py:246: FutureWarning: The default value of n_estimators will change from 10 in version 0.20 to 100 in 0.22.\n",
      "  \"10 in version 0.20 to 100 in 0.22.\", FutureWarning)\n"
     ]
    },
    {
     "name": "stdout",
     "output_type": "stream",
     "text": [
      "Sampled 1008 points for HR\n",
      "shake n bake found feasible pt.\n",
      "shake n bake found feasible pt.\n",
      "Sampled 501 points for HR\n",
      "Generated 501 feasible and 500 infeasible pts for testing.\n"
     ]
    },
    {
     "name": "stderr",
     "output_type": "stream",
     "text": [
      "/usr/local/lib/python3.7/site-packages/sklearn/ensemble/forest.py:246: FutureWarning: The default value of n_estimators will change from 10 in version 0.20 to 100 in 0.22.\n",
      "  \"10 in version 0.20 to 100 in 0.22.\", FutureWarning)\n"
     ]
    },
    {
     "name": "stdout",
     "output_type": "stream",
     "text": [
      "Sampled 1009 points for HR\n",
      "Sampled 501 points for HR\n",
      "Generated 501 feasible and 500 infeasible pts for testing.\n"
     ]
    },
    {
     "name": "stderr",
     "output_type": "stream",
     "text": [
      "/usr/local/lib/python3.7/site-packages/sklearn/ensemble/forest.py:246: FutureWarning: The default value of n_estimators will change from 10 in version 0.20 to 100 in 0.22.\n",
      "  \"10 in version 0.20 to 100 in 0.22.\", FutureWarning)\n"
     ]
    },
    {
     "name": "stdout",
     "output_type": "stream",
     "text": [
      "Sampled 1010 points for HR\n",
      "Sampled 501 points for HR\n",
      "Generated 501 feasible and 500 infeasible pts for testing.\n"
     ]
    },
    {
     "name": "stderr",
     "output_type": "stream",
     "text": [
      "/usr/local/lib/python3.7/site-packages/sklearn/ensemble/forest.py:246: FutureWarning: The default value of n_estimators will change from 10 in version 0.20 to 100 in 0.22.\n",
      "  \"10 in version 0.20 to 100 in 0.22.\", FutureWarning)\n"
     ]
    },
    {
     "name": "stdout",
     "output_type": "stream",
     "text": [
      "********************************************************************************\n",
      "R^8\n",
      "********************************************************************************\n",
      "Sampled 1011 points for HR\n",
      "Sampled 501 points for HR\n",
      "Generated 501 feasible and 500 infeasible pts for testing.\n"
     ]
    },
    {
     "name": "stderr",
     "output_type": "stream",
     "text": [
      "/usr/local/lib/python3.7/site-packages/sklearn/ensemble/forest.py:246: FutureWarning: The default value of n_estimators will change from 10 in version 0.20 to 100 in 0.22.\n",
      "  \"10 in version 0.20 to 100 in 0.22.\", FutureWarning)\n"
     ]
    },
    {
     "name": "stdout",
     "output_type": "stream",
     "text": [
      "Sampled 1012 points for HR\n",
      "Sampled 501 points for HR\n",
      "Generated 501 feasible and 500 infeasible pts for testing.\n"
     ]
    },
    {
     "name": "stderr",
     "output_type": "stream",
     "text": [
      "/usr/local/lib/python3.7/site-packages/sklearn/ensemble/forest.py:246: FutureWarning: The default value of n_estimators will change from 10 in version 0.20 to 100 in 0.22.\n",
      "  \"10 in version 0.20 to 100 in 0.22.\", FutureWarning)\n"
     ]
    },
    {
     "name": "stdout",
     "output_type": "stream",
     "text": [
      "Sampled 1013 points for HR\n",
      "Sampled 501 points for HR\n",
      "Generated 501 feasible and 500 infeasible pts for testing.\n"
     ]
    },
    {
     "name": "stderr",
     "output_type": "stream",
     "text": [
      "/usr/local/lib/python3.7/site-packages/sklearn/ensemble/forest.py:246: FutureWarning: The default value of n_estimators will change from 10 in version 0.20 to 100 in 0.22.\n",
      "  \"10 in version 0.20 to 100 in 0.22.\", FutureWarning)\n"
     ]
    },
    {
     "name": "stdout",
     "output_type": "stream",
     "text": [
      "Sampled 1014 points for HR\n",
      "Convex combination is still boundary\n",
      "Sampled 1015 points for HR\n",
      "Sampled 501 points for HR\n",
      "Generated 501 feasible and 500 infeasible pts for testing.\n"
     ]
    },
    {
     "name": "stderr",
     "output_type": "stream",
     "text": [
      "/usr/local/lib/python3.7/site-packages/sklearn/ensemble/forest.py:246: FutureWarning: The default value of n_estimators will change from 10 in version 0.20 to 100 in 0.22.\n",
      "  \"10 in version 0.20 to 100 in 0.22.\", FutureWarning)\n"
     ]
    },
    {
     "name": "stdout",
     "output_type": "stream",
     "text": [
      "Sampled 1016 points for HR\n",
      "Sampled 501 points for HR\n",
      "Generated 501 feasible and 500 infeasible pts for testing.\n"
     ]
    },
    {
     "name": "stderr",
     "output_type": "stream",
     "text": [
      "/usr/local/lib/python3.7/site-packages/sklearn/ensemble/forest.py:246: FutureWarning: The default value of n_estimators will change from 10 in version 0.20 to 100 in 0.22.\n",
      "  \"10 in version 0.20 to 100 in 0.22.\", FutureWarning)\n"
     ]
    },
    {
     "name": "stdout",
     "output_type": "stream",
     "text": [
      "Sampled 1017 points for HR\n",
      "Sampled 501 points for HR\n",
      "shake n bake found feasible pt.\n",
      "Generated 501 feasible and 499 infeasible pts for testing.\n"
     ]
    },
    {
     "name": "stderr",
     "output_type": "stream",
     "text": [
      "/usr/local/lib/python3.7/site-packages/sklearn/ensemble/forest.py:246: FutureWarning: The default value of n_estimators will change from 10 in version 0.20 to 100 in 0.22.\n",
      "  \"10 in version 0.20 to 100 in 0.22.\", FutureWarning)\n"
     ]
    },
    {
     "name": "stdout",
     "output_type": "stream",
     "text": [
      "Sampled 1018 points for HR\n",
      "shake n bake found feasible pt.\n",
      "Sampled 501 points for HR\n",
      "Generated 501 feasible and 500 infeasible pts for testing.\n"
     ]
    },
    {
     "name": "stderr",
     "output_type": "stream",
     "text": [
      "/usr/local/lib/python3.7/site-packages/sklearn/ensemble/forest.py:246: FutureWarning: The default value of n_estimators will change from 10 in version 0.20 to 100 in 0.22.\n",
      "  \"10 in version 0.20 to 100 in 0.22.\", FutureWarning)\n"
     ]
    },
    {
     "name": "stdout",
     "output_type": "stream",
     "text": [
      "Sampled 1019 points for HR\n",
      "Sampled 501 points for HR\n",
      "Generated 501 feasible and 500 infeasible pts for testing.\n"
     ]
    },
    {
     "name": "stderr",
     "output_type": "stream",
     "text": [
      "/usr/local/lib/python3.7/site-packages/sklearn/ensemble/forest.py:246: FutureWarning: The default value of n_estimators will change from 10 in version 0.20 to 100 in 0.22.\n",
      "  \"10 in version 0.20 to 100 in 0.22.\", FutureWarning)\n"
     ]
    },
    {
     "name": "stdout",
     "output_type": "stream",
     "text": [
      "Sampled 1020 points for HR\n",
      "Sampled 501 points for HR\n",
      "Generated 501 feasible and 500 infeasible pts for testing.\n"
     ]
    },
    {
     "name": "stderr",
     "output_type": "stream",
     "text": [
      "/usr/local/lib/python3.7/site-packages/sklearn/ensemble/forest.py:246: FutureWarning: The default value of n_estimators will change from 10 in version 0.20 to 100 in 0.22.\n",
      "  \"10 in version 0.20 to 100 in 0.22.\", FutureWarning)\n"
     ]
    },
    {
     "name": "stdout",
     "output_type": "stream",
     "text": [
      "Convex combination is still boundary\n",
      "Sampled 1021 points for HR\n",
      "Sampled 501 points for HR\n",
      "Generated 501 feasible and 500 infeasible pts for testing.\n"
     ]
    },
    {
     "name": "stderr",
     "output_type": "stream",
     "text": [
      "/usr/local/lib/python3.7/site-packages/sklearn/ensemble/forest.py:246: FutureWarning: The default value of n_estimators will change from 10 in version 0.20 to 100 in 0.22.\n",
      "  \"10 in version 0.20 to 100 in 0.22.\", FutureWarning)\n"
     ]
    },
    {
     "name": "stdout",
     "output_type": "stream",
     "text": [
      "********************************************************************************\n",
      "R^16\n",
      "********************************************************************************\n",
      "Sampled 1022 points for HR\n",
      "Sampled 501 points for HR\n",
      "Generated 501 feasible and 500 infeasible pts for testing.\n"
     ]
    },
    {
     "name": "stderr",
     "output_type": "stream",
     "text": [
      "/usr/local/lib/python3.7/site-packages/sklearn/ensemble/forest.py:246: FutureWarning: The default value of n_estimators will change from 10 in version 0.20 to 100 in 0.22.\n",
      "  \"10 in version 0.20 to 100 in 0.22.\", FutureWarning)\n"
     ]
    },
    {
     "name": "stdout",
     "output_type": "stream",
     "text": [
      "Convex combination is still boundary\n",
      "Sampled 1023 points for HR\n",
      "Sampled 501 points for HR\n",
      "shake n bake found feasible pt.\n",
      "Generated 501 feasible and 499 infeasible pts for testing.\n"
     ]
    },
    {
     "name": "stderr",
     "output_type": "stream",
     "text": [
      "/usr/local/lib/python3.7/site-packages/sklearn/ensemble/forest.py:246: FutureWarning: The default value of n_estimators will change from 10 in version 0.20 to 100 in 0.22.\n",
      "  \"10 in version 0.20 to 100 in 0.22.\", FutureWarning)\n"
     ]
    },
    {
     "name": "stdout",
     "output_type": "stream",
     "text": [
      "Sampled 1024 points for HR\n",
      "Sampled 501 points for HR\n",
      "Generated 501 feasible and 500 infeasible pts for testing.\n"
     ]
    },
    {
     "name": "stderr",
     "output_type": "stream",
     "text": [
      "/usr/local/lib/python3.7/site-packages/sklearn/ensemble/forest.py:246: FutureWarning: The default value of n_estimators will change from 10 in version 0.20 to 100 in 0.22.\n",
      "  \"10 in version 0.20 to 100 in 0.22.\", FutureWarning)\n"
     ]
    },
    {
     "name": "stdout",
     "output_type": "stream",
     "text": [
      "Sampled 1025 points for HR\n",
      "Sampled 501 points for HR\n",
      "Generated 501 feasible and 500 infeasible pts for testing.\n"
     ]
    },
    {
     "name": "stderr",
     "output_type": "stream",
     "text": [
      "/usr/local/lib/python3.7/site-packages/sklearn/ensemble/forest.py:246: FutureWarning: The default value of n_estimators will change from 10 in version 0.20 to 100 in 0.22.\n",
      "  \"10 in version 0.20 to 100 in 0.22.\", FutureWarning)\n"
     ]
    },
    {
     "name": "stdout",
     "output_type": "stream",
     "text": [
      "Sampled 1026 points for HR\n",
      "Sampled 501 points for HR\n",
      "Generated 501 feasible and 500 infeasible pts for testing.\n"
     ]
    },
    {
     "name": "stderr",
     "output_type": "stream",
     "text": [
      "/usr/local/lib/python3.7/site-packages/sklearn/ensemble/forest.py:246: FutureWarning: The default value of n_estimators will change from 10 in version 0.20 to 100 in 0.22.\n",
      "  \"10 in version 0.20 to 100 in 0.22.\", FutureWarning)\n"
     ]
    },
    {
     "name": "stdout",
     "output_type": "stream",
     "text": [
      "Sampled 1027 points for HR\n",
      "shake n bake found feasible pt.\n",
      "Sampled 501 points for HR\n",
      "Generated 501 feasible and 500 infeasible pts for testing.\n"
     ]
    },
    {
     "name": "stderr",
     "output_type": "stream",
     "text": [
      "/usr/local/lib/python3.7/site-packages/sklearn/ensemble/forest.py:246: FutureWarning: The default value of n_estimators will change from 10 in version 0.20 to 100 in 0.22.\n",
      "  \"10 in version 0.20 to 100 in 0.22.\", FutureWarning)\n"
     ]
    },
    {
     "name": "stdout",
     "output_type": "stream",
     "text": [
      "Sampled 1028 points for HR\n",
      "Sampled 501 points for HR\n",
      "Generated 501 feasible and 500 infeasible pts for testing.\n"
     ]
    },
    {
     "name": "stderr",
     "output_type": "stream",
     "text": [
      "/usr/local/lib/python3.7/site-packages/sklearn/ensemble/forest.py:246: FutureWarning: The default value of n_estimators will change from 10 in version 0.20 to 100 in 0.22.\n",
      "  \"10 in version 0.20 to 100 in 0.22.\", FutureWarning)\n"
     ]
    },
    {
     "name": "stdout",
     "output_type": "stream",
     "text": [
      "Sampled 1029 points for HR\n",
      "Sampled 501 points for HR\n",
      "Generated 501 feasible and 500 infeasible pts for testing.\n"
     ]
    },
    {
     "name": "stderr",
     "output_type": "stream",
     "text": [
      "/usr/local/lib/python3.7/site-packages/sklearn/ensemble/forest.py:246: FutureWarning: The default value of n_estimators will change from 10 in version 0.20 to 100 in 0.22.\n",
      "  \"10 in version 0.20 to 100 in 0.22.\", FutureWarning)\n"
     ]
    },
    {
     "name": "stdout",
     "output_type": "stream",
     "text": [
      "Sampled 1030 points for HR\n",
      "Sampled 501 points for HR\n",
      "Generated 501 feasible and 500 infeasible pts for testing.\n"
     ]
    },
    {
     "name": "stderr",
     "output_type": "stream",
     "text": [
      "/usr/local/lib/python3.7/site-packages/sklearn/ensemble/forest.py:246: FutureWarning: The default value of n_estimators will change from 10 in version 0.20 to 100 in 0.22.\n",
      "  \"10 in version 0.20 to 100 in 0.22.\", FutureWarning)\n"
     ]
    },
    {
     "name": "stdout",
     "output_type": "stream",
     "text": [
      "Sampled 1031 points for HR\n",
      "Sampled 501 points for HR\n",
      "shake n bake found feasible pt.\n",
      "Generated 501 feasible and 499 infeasible pts for testing.\n"
     ]
    },
    {
     "name": "stderr",
     "output_type": "stream",
     "text": [
      "/usr/local/lib/python3.7/site-packages/sklearn/ensemble/forest.py:246: FutureWarning: The default value of n_estimators will change from 10 in version 0.20 to 100 in 0.22.\n",
      "  \"10 in version 0.20 to 100 in 0.22.\", FutureWarning)\n"
     ]
    },
    {
     "name": "stdout",
     "output_type": "stream",
     "text": [
      "********************************************************************************\n",
      "R^32\n",
      "********************************************************************************\n",
      "Sampled 1032 points for HR\n",
      "shake n bake found feasible pt.\n",
      "Sampled 501 points for HR\n",
      "Generated 501 feasible and 500 infeasible pts for testing.\n"
     ]
    },
    {
     "name": "stderr",
     "output_type": "stream",
     "text": [
      "/usr/local/lib/python3.7/site-packages/sklearn/ensemble/forest.py:246: FutureWarning: The default value of n_estimators will change from 10 in version 0.20 to 100 in 0.22.\n",
      "  \"10 in version 0.20 to 100 in 0.22.\", FutureWarning)\n"
     ]
    },
    {
     "name": "stdout",
     "output_type": "stream",
     "text": [
      "Sampled 1033 points for HR\n",
      "Sampled 501 points for HR\n",
      "Generated 501 feasible and 500 infeasible pts for testing.\n"
     ]
    },
    {
     "name": "stderr",
     "output_type": "stream",
     "text": [
      "/usr/local/lib/python3.7/site-packages/sklearn/ensemble/forest.py:246: FutureWarning: The default value of n_estimators will change from 10 in version 0.20 to 100 in 0.22.\n",
      "  \"10 in version 0.20 to 100 in 0.22.\", FutureWarning)\n"
     ]
    },
    {
     "name": "stdout",
     "output_type": "stream",
     "text": [
      "Sampled 1034 points for HR\n",
      "Sampled 501 points for HR\n",
      "Generated 501 feasible and 500 infeasible pts for testing.\n"
     ]
    },
    {
     "name": "stderr",
     "output_type": "stream",
     "text": [
      "/usr/local/lib/python3.7/site-packages/sklearn/ensemble/forest.py:246: FutureWarning: The default value of n_estimators will change from 10 in version 0.20 to 100 in 0.22.\n",
      "  \"10 in version 0.20 to 100 in 0.22.\", FutureWarning)\n"
     ]
    },
    {
     "name": "stdout",
     "output_type": "stream",
     "text": [
      "Sampled 1035 points for HR\n",
      "Sampled 501 points for HR\n",
      "Generated 501 feasible and 500 infeasible pts for testing.\n"
     ]
    },
    {
     "name": "stderr",
     "output_type": "stream",
     "text": [
      "/usr/local/lib/python3.7/site-packages/sklearn/ensemble/forest.py:246: FutureWarning: The default value of n_estimators will change from 10 in version 0.20 to 100 in 0.22.\n",
      "  \"10 in version 0.20 to 100 in 0.22.\", FutureWarning)\n"
     ]
    },
    {
     "name": "stdout",
     "output_type": "stream",
     "text": [
      "Sampled 1036 points for HR\n",
      "Sampled 501 points for HR\n",
      "Generated 501 feasible and 500 infeasible pts for testing.\n"
     ]
    },
    {
     "name": "stderr",
     "output_type": "stream",
     "text": [
      "/usr/local/lib/python3.7/site-packages/sklearn/ensemble/forest.py:246: FutureWarning: The default value of n_estimators will change from 10 in version 0.20 to 100 in 0.22.\n",
      "  \"10 in version 0.20 to 100 in 0.22.\", FutureWarning)\n"
     ]
    },
    {
     "name": "stdout",
     "output_type": "stream",
     "text": [
      "Sampled 1037 points for HR\n",
      "Sampled 501 points for HR\n",
      "Generated 501 feasible and 500 infeasible pts for testing.\n"
     ]
    },
    {
     "name": "stderr",
     "output_type": "stream",
     "text": [
      "/usr/local/lib/python3.7/site-packages/sklearn/ensemble/forest.py:246: FutureWarning: The default value of n_estimators will change from 10 in version 0.20 to 100 in 0.22.\n",
      "  \"10 in version 0.20 to 100 in 0.22.\", FutureWarning)\n"
     ]
    },
    {
     "name": "stdout",
     "output_type": "stream",
     "text": [
      "Sampled 1038 points for HR\n",
      "Sampled 501 points for HR\n",
      "Generated 501 feasible and 500 infeasible pts for testing.\n"
     ]
    },
    {
     "name": "stderr",
     "output_type": "stream",
     "text": [
      "/usr/local/lib/python3.7/site-packages/sklearn/ensemble/forest.py:246: FutureWarning: The default value of n_estimators will change from 10 in version 0.20 to 100 in 0.22.\n",
      "  \"10 in version 0.20 to 100 in 0.22.\", FutureWarning)\n"
     ]
    },
    {
     "name": "stdout",
     "output_type": "stream",
     "text": [
      "Sampled 1039 points for HR\n",
      "Sampled 501 points for HR\n",
      "Generated 501 feasible and 500 infeasible pts for testing.\n"
     ]
    },
    {
     "name": "stderr",
     "output_type": "stream",
     "text": [
      "/usr/local/lib/python3.7/site-packages/sklearn/ensemble/forest.py:246: FutureWarning: The default value of n_estimators will change from 10 in version 0.20 to 100 in 0.22.\n",
      "  \"10 in version 0.20 to 100 in 0.22.\", FutureWarning)\n"
     ]
    },
    {
     "name": "stdout",
     "output_type": "stream",
     "text": [
      "Sampled 1040 points for HR\n",
      "shake n bake found feasible pt.\n",
      "Sampled 501 points for HR\n",
      "Generated 501 feasible and 500 infeasible pts for testing.\n"
     ]
    },
    {
     "name": "stderr",
     "output_type": "stream",
     "text": [
      "/usr/local/lib/python3.7/site-packages/sklearn/ensemble/forest.py:246: FutureWarning: The default value of n_estimators will change from 10 in version 0.20 to 100 in 0.22.\n",
      "  \"10 in version 0.20 to 100 in 0.22.\", FutureWarning)\n"
     ]
    },
    {
     "name": "stdout",
     "output_type": "stream",
     "text": [
      "Sampled 1041 points for HR\n",
      "Sampled 501 points for HR\n",
      "Generated 501 feasible and 500 infeasible pts for testing.\n"
     ]
    },
    {
     "name": "stderr",
     "output_type": "stream",
     "text": [
      "/usr/local/lib/python3.7/site-packages/sklearn/ensemble/forest.py:246: FutureWarning: The default value of n_estimators will change from 10 in version 0.20 to 100 in 0.22.\n",
      "  \"10 in version 0.20 to 100 in 0.22.\", FutureWarning)\n"
     ]
    },
    {
     "name": "stdout",
     "output_type": "stream",
     "text": [
      "********************************************************************************\n",
      "R^64\n",
      "********************************************************************************\n",
      "Sampled 1042 points for HR\n",
      "Sampled 501 points for HR\n",
      "Generated 501 feasible and 500 infeasible pts for testing.\n"
     ]
    },
    {
     "name": "stderr",
     "output_type": "stream",
     "text": [
      "/usr/local/lib/python3.7/site-packages/sklearn/ensemble/forest.py:246: FutureWarning: The default value of n_estimators will change from 10 in version 0.20 to 100 in 0.22.\n",
      "  \"10 in version 0.20 to 100 in 0.22.\", FutureWarning)\n"
     ]
    },
    {
     "name": "stdout",
     "output_type": "stream",
     "text": [
      "Sampled 1043 points for HR\n",
      "Sampled 501 points for HR\n",
      "Generated 501 feasible and 500 infeasible pts for testing.\n"
     ]
    },
    {
     "name": "stderr",
     "output_type": "stream",
     "text": [
      "/usr/local/lib/python3.7/site-packages/sklearn/ensemble/forest.py:246: FutureWarning: The default value of n_estimators will change from 10 in version 0.20 to 100 in 0.22.\n",
      "  \"10 in version 0.20 to 100 in 0.22.\", FutureWarning)\n"
     ]
    },
    {
     "name": "stdout",
     "output_type": "stream",
     "text": [
      "Sampled 1044 points for HR\n",
      "Sampled 501 points for HR\n",
      "Generated 501 feasible and 500 infeasible pts for testing.\n"
     ]
    },
    {
     "name": "stderr",
     "output_type": "stream",
     "text": [
      "/usr/local/lib/python3.7/site-packages/sklearn/ensemble/forest.py:246: FutureWarning: The default value of n_estimators will change from 10 in version 0.20 to 100 in 0.22.\n",
      "  \"10 in version 0.20 to 100 in 0.22.\", FutureWarning)\n"
     ]
    },
    {
     "name": "stdout",
     "output_type": "stream",
     "text": [
      "Sampled 1045 points for HR\n",
      "shake n bake found feasible pt.\n",
      "Sampled 501 points for HR\n",
      "Generated 501 feasible and 500 infeasible pts for testing.\n"
     ]
    },
    {
     "name": "stderr",
     "output_type": "stream",
     "text": [
      "/usr/local/lib/python3.7/site-packages/sklearn/ensemble/forest.py:246: FutureWarning: The default value of n_estimators will change from 10 in version 0.20 to 100 in 0.22.\n",
      "  \"10 in version 0.20 to 100 in 0.22.\", FutureWarning)\n"
     ]
    },
    {
     "name": "stdout",
     "output_type": "stream",
     "text": [
      "Sampled 1046 points for HR\n",
      "Sampled 501 points for HR\n",
      "Generated 501 feasible and 500 infeasible pts for testing.\n"
     ]
    },
    {
     "name": "stderr",
     "output_type": "stream",
     "text": [
      "/usr/local/lib/python3.7/site-packages/sklearn/ensemble/forest.py:246: FutureWarning: The default value of n_estimators will change from 10 in version 0.20 to 100 in 0.22.\n",
      "  \"10 in version 0.20 to 100 in 0.22.\", FutureWarning)\n"
     ]
    },
    {
     "name": "stdout",
     "output_type": "stream",
     "text": [
      "Sampled 1047 points for HR\n",
      "Sampled 501 points for HR\n",
      "Generated 501 feasible and 500 infeasible pts for testing.\n"
     ]
    },
    {
     "name": "stderr",
     "output_type": "stream",
     "text": [
      "/usr/local/lib/python3.7/site-packages/sklearn/ensemble/forest.py:246: FutureWarning: The default value of n_estimators will change from 10 in version 0.20 to 100 in 0.22.\n",
      "  \"10 in version 0.20 to 100 in 0.22.\", FutureWarning)\n"
     ]
    },
    {
     "name": "stdout",
     "output_type": "stream",
     "text": [
      "Sampled 1048 points for HR\n",
      "Sampled 501 points for HR\n",
      "Generated 501 feasible and 500 infeasible pts for testing.\n"
     ]
    },
    {
     "name": "stderr",
     "output_type": "stream",
     "text": [
      "/usr/local/lib/python3.7/site-packages/sklearn/ensemble/forest.py:246: FutureWarning: The default value of n_estimators will change from 10 in version 0.20 to 100 in 0.22.\n",
      "  \"10 in version 0.20 to 100 in 0.22.\", FutureWarning)\n"
     ]
    },
    {
     "name": "stdout",
     "output_type": "stream",
     "text": [
      "Sampled 1049 points for HR\n",
      "Sampled 501 points for HR\n",
      "Generated 501 feasible and 500 infeasible pts for testing.\n"
     ]
    },
    {
     "name": "stderr",
     "output_type": "stream",
     "text": [
      "/usr/local/lib/python3.7/site-packages/sklearn/ensemble/forest.py:246: FutureWarning: The default value of n_estimators will change from 10 in version 0.20 to 100 in 0.22.\n",
      "  \"10 in version 0.20 to 100 in 0.22.\", FutureWarning)\n"
     ]
    },
    {
     "name": "stdout",
     "output_type": "stream",
     "text": [
      "Sampled 1050 points for HR\n",
      "Sampled 501 points for HR\n",
      "Generated 501 feasible and 500 infeasible pts for testing.\n"
     ]
    },
    {
     "name": "stderr",
     "output_type": "stream",
     "text": [
      "/usr/local/lib/python3.7/site-packages/sklearn/ensemble/forest.py:246: FutureWarning: The default value of n_estimators will change from 10 in version 0.20 to 100 in 0.22.\n",
      "  \"10 in version 0.20 to 100 in 0.22.\", FutureWarning)\n"
     ]
    },
    {
     "name": "stdout",
     "output_type": "stream",
     "text": [
      "Sampled 1051 points for HR\n",
      "Sampled 501 points for HR\n",
      "Generated 501 feasible and 500 infeasible pts for testing.\n"
     ]
    },
    {
     "name": "stderr",
     "output_type": "stream",
     "text": [
      "/usr/local/lib/python3.7/site-packages/sklearn/ensemble/forest.py:246: FutureWarning: The default value of n_estimators will change from 10 in version 0.20 to 100 in 0.22.\n",
      "  \"10 in version 0.20 to 100 in 0.22.\", FutureWarning)\n"
     ]
    },
    {
     "name": "stdout",
     "output_type": "stream",
     "text": [
      "********************************************************************************\n",
      "R^128\n",
      "********************************************************************************\n",
      "Sampled 1052 points for HR\n",
      "Sampled 501 points for HR\n",
      "Generated 501 feasible and 500 infeasible pts for testing.\n"
     ]
    },
    {
     "name": "stderr",
     "output_type": "stream",
     "text": [
      "/usr/local/lib/python3.7/site-packages/sklearn/ensemble/forest.py:246: FutureWarning: The default value of n_estimators will change from 10 in version 0.20 to 100 in 0.22.\n",
      "  \"10 in version 0.20 to 100 in 0.22.\", FutureWarning)\n"
     ]
    },
    {
     "name": "stdout",
     "output_type": "stream",
     "text": [
      "Sampled 1053 points for HR\n",
      "Sampled 501 points for HR\n",
      "Generated 501 feasible and 500 infeasible pts for testing.\n"
     ]
    },
    {
     "name": "stderr",
     "output_type": "stream",
     "text": [
      "/usr/local/lib/python3.7/site-packages/sklearn/ensemble/forest.py:246: FutureWarning: The default value of n_estimators will change from 10 in version 0.20 to 100 in 0.22.\n",
      "  \"10 in version 0.20 to 100 in 0.22.\", FutureWarning)\n"
     ]
    },
    {
     "name": "stdout",
     "output_type": "stream",
     "text": [
      "Sampled 1054 points for HR\n",
      "Sampled 501 points for HR\n",
      "shake n bake found feasible pt.\n",
      "Generated 501 feasible and 499 infeasible pts for testing.\n"
     ]
    },
    {
     "name": "stderr",
     "output_type": "stream",
     "text": [
      "/usr/local/lib/python3.7/site-packages/sklearn/ensemble/forest.py:246: FutureWarning: The default value of n_estimators will change from 10 in version 0.20 to 100 in 0.22.\n",
      "  \"10 in version 0.20 to 100 in 0.22.\", FutureWarning)\n"
     ]
    },
    {
     "name": "stdout",
     "output_type": "stream",
     "text": [
      "Sampled 1055 points for HR\n",
      "shake n bake found feasible pt.\n",
      "Sampled 501 points for HR\n",
      "Generated 501 feasible and 500 infeasible pts for testing.\n"
     ]
    },
    {
     "name": "stderr",
     "output_type": "stream",
     "text": [
      "/usr/local/lib/python3.7/site-packages/sklearn/ensemble/forest.py:246: FutureWarning: The default value of n_estimators will change from 10 in version 0.20 to 100 in 0.22.\n",
      "  \"10 in version 0.20 to 100 in 0.22.\", FutureWarning)\n"
     ]
    },
    {
     "name": "stdout",
     "output_type": "stream",
     "text": [
      "Sampled 1056 points for HR\n",
      "Sampled 501 points for HR\n",
      "Generated 501 feasible and 500 infeasible pts for testing.\n"
     ]
    },
    {
     "name": "stderr",
     "output_type": "stream",
     "text": [
      "/usr/local/lib/python3.7/site-packages/sklearn/ensemble/forest.py:246: FutureWarning: The default value of n_estimators will change from 10 in version 0.20 to 100 in 0.22.\n",
      "  \"10 in version 0.20 to 100 in 0.22.\", FutureWarning)\n"
     ]
    },
    {
     "name": "stdout",
     "output_type": "stream",
     "text": [
      "Sampled 1057 points for HR\n",
      "Sampled 501 points for HR\n",
      "Generated 501 feasible and 500 infeasible pts for testing.\n"
     ]
    },
    {
     "name": "stderr",
     "output_type": "stream",
     "text": [
      "/usr/local/lib/python3.7/site-packages/sklearn/ensemble/forest.py:246: FutureWarning: The default value of n_estimators will change from 10 in version 0.20 to 100 in 0.22.\n",
      "  \"10 in version 0.20 to 100 in 0.22.\", FutureWarning)\n"
     ]
    },
    {
     "name": "stdout",
     "output_type": "stream",
     "text": [
      "Sampled 1058 points for HR\n",
      "Sampled 501 points for HR\n",
      "Generated 501 feasible and 500 infeasible pts for testing.\n"
     ]
    },
    {
     "name": "stderr",
     "output_type": "stream",
     "text": [
      "/usr/local/lib/python3.7/site-packages/sklearn/ensemble/forest.py:246: FutureWarning: The default value of n_estimators will change from 10 in version 0.20 to 100 in 0.22.\n",
      "  \"10 in version 0.20 to 100 in 0.22.\", FutureWarning)\n"
     ]
    },
    {
     "name": "stdout",
     "output_type": "stream",
     "text": [
      "Sampled 1059 points for HR\n",
      "Sampled 501 points for HR\n",
      "Generated 501 feasible and 500 infeasible pts for testing.\n"
     ]
    },
    {
     "name": "stderr",
     "output_type": "stream",
     "text": [
      "/usr/local/lib/python3.7/site-packages/sklearn/ensemble/forest.py:246: FutureWarning: The default value of n_estimators will change from 10 in version 0.20 to 100 in 0.22.\n",
      "  \"10 in version 0.20 to 100 in 0.22.\", FutureWarning)\n"
     ]
    },
    {
     "name": "stdout",
     "output_type": "stream",
     "text": [
      "Sampled 1060 points for HR\n",
      "Sampled 501 points for HR\n",
      "Generated 501 feasible and 500 infeasible pts for testing.\n"
     ]
    },
    {
     "name": "stderr",
     "output_type": "stream",
     "text": [
      "/usr/local/lib/python3.7/site-packages/sklearn/ensemble/forest.py:246: FutureWarning: The default value of n_estimators will change from 10 in version 0.20 to 100 in 0.22.\n",
      "  \"10 in version 0.20 to 100 in 0.22.\", FutureWarning)\n"
     ]
    },
    {
     "name": "stdout",
     "output_type": "stream",
     "text": [
      "Sampled 1061 points for HR\n",
      "shake n bake found feasible pt.\n",
      "Sampled 501 points for HR\n",
      "Generated 501 feasible and 500 infeasible pts for testing.\n"
     ]
    },
    {
     "name": "stderr",
     "output_type": "stream",
     "text": [
      "/usr/local/lib/python3.7/site-packages/sklearn/ensemble/forest.py:246: FutureWarning: The default value of n_estimators will change from 10 in version 0.20 to 100 in 0.22.\n",
      "  \"10 in version 0.20 to 100 in 0.22.\", FutureWarning)\n"
     ]
    },
    {
     "name": "stdout",
     "output_type": "stream",
     "text": [
      "********************************************************************************\n",
      "R^256\n",
      "********************************************************************************\n",
      "Sampled 1062 points for HR\n",
      "Sampled 501 points for HR\n",
      "Generated 501 feasible and 500 infeasible pts for testing.\n"
     ]
    },
    {
     "name": "stderr",
     "output_type": "stream",
     "text": [
      "/usr/local/lib/python3.7/site-packages/sklearn/ensemble/forest.py:246: FutureWarning: The default value of n_estimators will change from 10 in version 0.20 to 100 in 0.22.\n",
      "  \"10 in version 0.20 to 100 in 0.22.\", FutureWarning)\n"
     ]
    },
    {
     "name": "stdout",
     "output_type": "stream",
     "text": [
      "Sampled 1063 points for HR\n",
      "Sampled 501 points for HR\n",
      "Generated 501 feasible and 500 infeasible pts for testing.\n"
     ]
    },
    {
     "name": "stderr",
     "output_type": "stream",
     "text": [
      "/usr/local/lib/python3.7/site-packages/sklearn/ensemble/forest.py:246: FutureWarning: The default value of n_estimators will change from 10 in version 0.20 to 100 in 0.22.\n",
      "  \"10 in version 0.20 to 100 in 0.22.\", FutureWarning)\n"
     ]
    },
    {
     "name": "stdout",
     "output_type": "stream",
     "text": [
      "Sampled 1064 points for HR\n",
      "Sampled 501 points for HR\n",
      "shake n bake found feasible pt.\n",
      "Generated 501 feasible and 499 infeasible pts for testing.\n"
     ]
    },
    {
     "name": "stderr",
     "output_type": "stream",
     "text": [
      "/usr/local/lib/python3.7/site-packages/sklearn/ensemble/forest.py:246: FutureWarning: The default value of n_estimators will change from 10 in version 0.20 to 100 in 0.22.\n",
      "  \"10 in version 0.20 to 100 in 0.22.\", FutureWarning)\n"
     ]
    },
    {
     "name": "stdout",
     "output_type": "stream",
     "text": [
      "Sampled 1065 points for HR\n",
      "Sampled 501 points for HR\n",
      "Generated 501 feasible and 500 infeasible pts for testing.\n"
     ]
    },
    {
     "name": "stderr",
     "output_type": "stream",
     "text": [
      "/usr/local/lib/python3.7/site-packages/sklearn/ensemble/forest.py:246: FutureWarning: The default value of n_estimators will change from 10 in version 0.20 to 100 in 0.22.\n",
      "  \"10 in version 0.20 to 100 in 0.22.\", FutureWarning)\n"
     ]
    },
    {
     "name": "stdout",
     "output_type": "stream",
     "text": [
      "Sampled 1066 points for HR\n",
      "Sampled 501 points for HR\n",
      "Generated 501 feasible and 500 infeasible pts for testing.\n"
     ]
    },
    {
     "name": "stderr",
     "output_type": "stream",
     "text": [
      "/usr/local/lib/python3.7/site-packages/sklearn/ensemble/forest.py:246: FutureWarning: The default value of n_estimators will change from 10 in version 0.20 to 100 in 0.22.\n",
      "  \"10 in version 0.20 to 100 in 0.22.\", FutureWarning)\n"
     ]
    },
    {
     "name": "stdout",
     "output_type": "stream",
     "text": [
      "Sampled 1067 points for HR\n",
      "Sampled 501 points for HR\n",
      "Generated 501 feasible and 500 infeasible pts for testing.\n"
     ]
    },
    {
     "name": "stderr",
     "output_type": "stream",
     "text": [
      "/usr/local/lib/python3.7/site-packages/sklearn/ensemble/forest.py:246: FutureWarning: The default value of n_estimators will change from 10 in version 0.20 to 100 in 0.22.\n",
      "  \"10 in version 0.20 to 100 in 0.22.\", FutureWarning)\n"
     ]
    },
    {
     "name": "stdout",
     "output_type": "stream",
     "text": [
      "Sampled 1068 points for HR\n",
      "Sampled 501 points for HR\n",
      "Generated 501 feasible and 500 infeasible pts for testing.\n"
     ]
    },
    {
     "name": "stderr",
     "output_type": "stream",
     "text": [
      "/usr/local/lib/python3.7/site-packages/sklearn/ensemble/forest.py:246: FutureWarning: The default value of n_estimators will change from 10 in version 0.20 to 100 in 0.22.\n",
      "  \"10 in version 0.20 to 100 in 0.22.\", FutureWarning)\n"
     ]
    },
    {
     "name": "stdout",
     "output_type": "stream",
     "text": [
      "Sampled 1069 points for HR\n",
      "Sampled 501 points for HR\n",
      "Generated 501 feasible and 500 infeasible pts for testing.\n"
     ]
    },
    {
     "name": "stderr",
     "output_type": "stream",
     "text": [
      "/usr/local/lib/python3.7/site-packages/sklearn/ensemble/forest.py:246: FutureWarning: The default value of n_estimators will change from 10 in version 0.20 to 100 in 0.22.\n",
      "  \"10 in version 0.20 to 100 in 0.22.\", FutureWarning)\n"
     ]
    },
    {
     "name": "stdout",
     "output_type": "stream",
     "text": [
      "Sampled 1070 points for HR\n",
      "Convex combination is still boundary\n",
      "Sampled 1071 points for HR\n",
      "Sampled 501 points for HR\n",
      "Generated 501 feasible and 500 infeasible pts for testing.\n"
     ]
    },
    {
     "name": "stderr",
     "output_type": "stream",
     "text": [
      "/usr/local/lib/python3.7/site-packages/sklearn/ensemble/forest.py:246: FutureWarning: The default value of n_estimators will change from 10 in version 0.20 to 100 in 0.22.\n",
      "  \"10 in version 0.20 to 100 in 0.22.\", FutureWarning)\n"
     ]
    },
    {
     "name": "stdout",
     "output_type": "stream",
     "text": [
      "Sampled 1072 points for HR\n",
      "Sampled 501 points for HR\n",
      "Generated 501 feasible and 500 infeasible pts for testing.\n"
     ]
    },
    {
     "name": "stderr",
     "output_type": "stream",
     "text": [
      "/usr/local/lib/python3.7/site-packages/sklearn/ensemble/forest.py:246: FutureWarning: The default value of n_estimators will change from 10 in version 0.20 to 100 in 0.22.\n",
      "  \"10 in version 0.20 to 100 in 0.22.\", FutureWarning)\n"
     ]
    },
    {
     "name": "stdout",
     "output_type": "stream",
     "text": [
      "{4: {'kde_acc': 0.8606393606393606, 'snb_acc': 0.9283716283716285},\n",
      " 8: {'kde_acc': 0.860024175824176, 'snb_acc': 0.9510466533466533},\n",
      " 16: {'kde_acc': 0.858211988011988, 'snb_acc': 0.9350517482517482},\n",
      " 32: {'kde_acc': 0.8683316683316683, 'snb_acc': 0.9335664335664335},\n",
      " 64: {'kde_acc': 0.85994005994006, 'snb_acc': 0.9442557442557444},\n",
      " 128: {'kde_acc': 0.8581279720279721, 'snb_acc': 0.9374560439560439},\n",
      " 256: {'kde_acc': 0.8616241758241758, 'snb_acc': 0.9446509490509492}}\n"
     ]
    },
    {
     "data": {
      "image/png": "[encoded data removed]",
      "text/plain": [
       "<Figure size 576x576 with 1 Axes>"
      ]
     },
     "metadata": {
      "needs_background": "light"
     },
     "output_type": "display_data"
    }
   ],
   "source": [
    "def experiment_sweep_Rn():\n",
    "    \"\"\"\n",
    "    Compares MCMC and KDE on simplex with a sweep over dimensions.\n",
    "    Expecting to see the KDE completely fall apart at higher dimensions.\n",
    "    \n",
    "    Results:\n",
    "    - Rn = [2, 4, 6, 8, 10, 12, 14,]: no real changes, MCMC and KDE are\n",
    "    consistently 90% and 80% respectively.\n",
    "    \"\"\"\n",
    "    Rn = [4, 8, 16, 32, 64, 128, 256]\n",
    "    scale = 1\n",
    "    n_samples = 1000\n",
    "    test_n_samples = 1000\n",
    "    n_tries = 10\n",
    "    results = {}\n",
    "    \n",
    "    for n in Rn:\n",
    "        print('*'*80)\n",
    "        print('R^{}'.format(n))\n",
    "        print('*'*80)\n",
    "        _try = 0\n",
    "        kde_accs = []\n",
    "        snb_accs = []\n",
    "        while _try < n_tries:\n",
    "            try:\n",
    "                A_mat, b_vec, b_relax = get_simplex_constraints(scale=scale)\n",
    "                # Generate feasible points via hit n run\n",
    "                feas_pts = hit_n_run(\n",
    "                    np.random.randn(n),\n",
    "                    A_mat,\n",
    "                    b_vec,\n",
    "                    n_samples=n_samples,\n",
    "                    verbose=False\n",
    "                )\n",
    "                feas_pts = np.array(feas_pts)\n",
    "                feas_check = [ is_feasible(A_mat, b_vec, pt) == True for pt in feas_pts ]\n",
    "                assert all(feas_check), 'Generated infeasible point instead of feasible'\n",
    "                n_samples = len(feas_pts)\n",
    "\n",
    "                init_pt = shake_n_bake_init(np.random.randn(n), A_mat, b_relax)\n",
    "                mcmc_infeas_pts = shake_n_bake_infeas(\n",
    "                    A_mat,\n",
    "                    b_relax,\n",
    "                    init_pt,\n",
    "                    n_samples=n_samples,\n",
    "                    scale=1,\n",
    "                    b_hid=b_vec,\n",
    "                    verbose=False,\n",
    "                )\n",
    "                feas_check = [\n",
    "                    is_feasible(A_mat, b_vec, pt) == False for pt in mcmc_infeas_pts\n",
    "                ]\n",
    "                assert all(feas_check), 'Generated feasible point instead of infeasible'\n",
    "\n",
    "                X_test, y_test = mcmc_test_set(\n",
    "                    A_mat,\n",
    "                    b_vec,\n",
    "                    test_n_samples,\n",
    "                    scale=1,\n",
    "                    verbose=False\n",
    "                )\n",
    "                kde_acc = train_and_test_kde(\n",
    "                    feas_pts,\n",
    "                    X_test,\n",
    "                    y_test,\n",
    "                    verbose=False\n",
    "                )\n",
    "                snb_acc = train_and_test_classifier(\n",
    "                    feas_pts,\n",
    "                    mcmc_infeas_pts,\n",
    "                    X_test,\n",
    "                    y_test,\n",
    "                    RandomForestClassifier,\n",
    "                    verbose=False\n",
    "                )\n",
    "                kde_accs.append(kde_acc)\n",
    "                snb_accs.append(snb_acc)\n",
    "                _try += 1\n",
    "            except Exception as inst:\n",
    "                print(inst)\n",
    "            results[n] = {\n",
    "                    'kde_acc': np.mean(kde_accs),\n",
    "                    'snb_acc': np.mean(snb_accs),\n",
    "                }\n",
    "\n",
    "    pprint(results)\n",
    "    xs = list(results.keys())\n",
    "    ys_kde = list(results[x]['kde_acc'] for x in results)\n",
    "    ys_snb = list(results[x]['snb_acc'] for x in results)\n",
    "    \n",
    "    fig, ax = plt.subplots(figsize=(8, 8))\n",
    "    ax.semilogx(xs, ys_kde, label='kde')\n",
    "    ax.semilogx(xs, ys_snb, label='snb')\n",
    "    ax.tick_params(direction='in')\n",
    "    ax.grid(True, ls='--', alpha=0.1)\n",
    "    ax.set(\n",
    "        xlabel='$R^n$', \n",
    "        ylabel='Mean accuracy', \n",
    "    )\n",
    "    ax.legend()\n",
    "    \n",
    "experiment_sweep_Rn()"
   ]
  },
  {
   "cell_type": "code",
   "execution_count": null,
   "metadata": {},
   "outputs": [],
   "source": []
  }
 ],
 "metadata": {
  "kernelspec": {
   "display_name": "Python 3",
   "language": "python",
   "name": "python3"
  },
  "language_info": {
   "codemirror_mode": {
    "name": "ipython",
    "version": 3
   },
   "file_extension": ".py",
   "mimetype": "text/x-python",
   "name": "python",
   "nbconvert_exporter": "python",
   "pygments_lexer": "ipython3",
   "version": "3.7.3"
  }
 },
 "nbformat": 4,
 "nbformat_minor": 2
}
