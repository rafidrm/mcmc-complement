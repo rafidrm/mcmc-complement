{
 "cells": [
  {
   "cell_type": "code",
   "execution_count": 1,
   "metadata": {},
   "outputs": [],
   "source": [
    "\"\"\"\n",
    "We conduct MCMC complement sampling experiments in R^n using\n",
    "random instances from MIPLIB.\n",
    "\n",
    "Generating feasible points:\n",
    "    - Too lazy to implement hitandrun, so I just randomly generate\n",
    "    some vertices and then find convex combinations of them.\n",
    "\"\"\"\n",
    "\n",
    "import numpy as np\n",
    "from pathlib import Path\n",
    "import pickle\n",
    "from pprint import pprint\n",
    "from scipy.optimize import linprog\n",
    "\n",
    "from sklearn.model_selection import train_test_split\n",
    "from sklearn.svm import SVC\n",
    "from sklearn.mixture import GaussianMixture"
   ]
  },
  {
   "cell_type": "code",
   "execution_count": 6,
   "metadata": {},
   "outputs": [],
   "source": [
    "def vertex_sampler(A_mat, b_vec, randomizer=np.random.rand, n_samples=200):\n",
    "    m, n = A_mat.shape\n",
    "    vertices = []\n",
    "    pts = []\n",
    "    for _ in range(n_samples):\n",
    "        c_vec = randomizer(n)\n",
    "        sol = linprog(c_vec, -A_mat, -b_vec)\n",
    "        if sol.success == True:\n",
    "            vertices.append(np.array(sol.x))\n",
    "        else:\n",
    "            sol = linprog(-c_vec, -A_mat, -b_vec, method='interior-point')\n",
    "            if sol.success == True:\n",
    "                vertices.append(np.array(sol.x))\n",
    "    vertices = np.array(vertices)\n",
    "    if len(vertices) < 2:\n",
    "        print('Error! Could not find enough solutions.')\n",
    "        return -1\n",
    "    for _ in range(n_samples):\n",
    "        combo = np.random.dirichlet(np.ones(n_samples))\n",
    "        pts.append(np.dot(combo, vertices))\n",
    "    return pts\n",
    "\n",
    "\n",
    "def load_and_generate_samples(fname, n_samples=200):\n",
    "    data = pickle.load(open(fname, 'rb'))\n",
    "    A_mat, b_vec = data['A_mat'], data['b_vec']\n",
    "    feas_pts = vertex_sampler(A_mat, b_vec, n_samples=n_samples)"
   ]
  },
  {
   "cell_type": "code",
   "execution_count": null,
   "metadata": {},
   "outputs": [],
   "source": [
    "def direction_sample_helper(con):\n",
    "    \"\"\" Samples a random point from the unit ball then checks with\n",
    "    the a vector that con'pt > 0\n",
    "    \"\"\"\n",
    "    wrong_direction = 1\n",
    "    n = len(con)\n",
    "    while wrong_direction == 1:\n",
    "        pt = np.random.rand(n) - 0.5\n",
    "        pt = pt / np.linalg.norm(pt)\n",
    "        if np.dot(con, pt) >= 0:\n",
    "            wrong_direction = 0\n",
    "    return pt\n",
    "\n",
    "\n",
    "def direction_sample(A_mat, b_vec, bd_pt):\n",
    "    \"\"\" First identifies the relevant constraint on the boundary,\n",
    "    then calls sample helper.\"\"\"\n",
    "    ind = list(np.isclose(np.dot(A_mat, bd_pt), b_vec)).index(True)\n",
    "    con = A_mat[ind]\n",
    "    return direction_sample_helper(con)\n",
    "\n",
    "\n",
    "def get_next_bd_pt(A_mat, b_vec, bd_pt, dir_pt):\n",
    "    \"\"\" First removes boundary constraints, then finds nearest\n",
    "    boundary.\"\"\"\n",
    "    weights = np.array([(bi - np.dot(ai, bd_pt)) / np.dot(ai, dir_pt) for ai, bi in zip(A_mat, b_vec)])\n",
    "    weights[weights <= 0] = 99\n",
    "    weight = min(weights)\n",
    "\n",
    "    return bd_pt + weight * dir_pt\n",
    "\n",
    "\n",
    "def shake_n_bake(A_mat, b_vec, init_pt, n_samples=10, scale=2):\n",
    "    \"\"\"\n",
    "    1. randomly sample direction vector (r)\n",
    "    2. randomly sample magnitude (xi)\n",
    "    3. add infeasible point (y - xi * r, y)\n",
    "    4. get next boundary point\n",
    "    \"\"\"\n",
    "    dataset = []\n",
    "    bd_pt = init_pt\n",
    "    while len(dataset) < n_samples:\n",
    "        r = direction_sample(A_mat, b_vec, bd_pt)\n",
    "        xi = np.random.exponential(scale=scale)\n",
    "        infeas_pt = bd_pt - xi * r\n",
    "        dataset.append((infeas_pt, bd_pt))\n",
    "        bd_pt = get_next_bd_pt(A_mat, b_vec, bd_pt, r)\n",
    "    return dataset\n",
    "\n",
    "def shake_n_bake_init(A_mat, b_vec, randomizer=np.random.rand):\n",
    "    m, n = A_mat.shape\n",
    "    vertices = []\n",
    "    pts = []\n",
    "    for i in range(10):\n",
    "        c_vec = randomizer(n)\n",
    "        sol = linprog(c_vec, -A_mat, -b_vec)\n",
    "        if sol.success == True:\n",
    "            return np.array(sol.x)\n",
    "    return 'Error'\n",
    "    "
   ]
  },
  {
   "cell_type": "code",
   "execution_count": 7,
   "metadata": {},
   "outputs": [
    {
     "name": "stdout",
     "output_type": "stream",
     "text": [
      "(57, 30)\n"
     ]
    },
    {
     "ename": "ValueError",
     "evalue": "Phase 1 of the simplex method failed to find a feasible solution. The pseudo-objective function evaluates to 1.2e-12 which exceeds the required tolerance of 1e-12 for a solution to be considered 'close enough' to zero to be a basic solution. Consider increasing the tolerance to be greater than 1.2e-12. If this tolerance is unacceptably  large the problem may be infeasible.",
     "output_type": "error",
     "traceback": [
      "\u001b[0;31m---------------------------------------------------------------------------\u001b[0m",
      "\u001b[0;31mValueError\u001b[0m                                Traceback (most recent call last)",
      "\u001b[0;32m<ipython-input-7-4e41a3d9e8bf>\u001b[0m in \u001b[0;36m<module>\u001b[0;34m\u001b[0m\n\u001b[1;32m     29\u001b[0m \u001b[0;34m\u001b[0m\u001b[0m\n\u001b[1;32m     30\u001b[0m \u001b[0mfname\u001b[0m \u001b[0;34m=\u001b[0m \u001b[0;34m'miplib/gen-ip054_R1.pickle'\u001b[0m\u001b[0;34m\u001b[0m\u001b[0;34m\u001b[0m\u001b[0m\n\u001b[0;32m---> 31\u001b[0;31m \u001b[0mexperiment_MCMC\u001b[0m\u001b[0;34m(\u001b[0m\u001b[0mfname\u001b[0m\u001b[0;34m,\u001b[0m \u001b[0mn_samples\u001b[0m\u001b[0;34m=\u001b[0m\u001b[0;36m50\u001b[0m\u001b[0;34m,\u001b[0m \u001b[0mtest_size\u001b[0m\u001b[0;34m=\u001b[0m\u001b[0;36m0.8\u001b[0m\u001b[0;34m,\u001b[0m \u001b[0mrandomizer\u001b[0m\u001b[0;34m=\u001b[0m\u001b[0mnp\u001b[0m\u001b[0;34m.\u001b[0m\u001b[0mrandom\u001b[0m\u001b[0;34m.\u001b[0m\u001b[0mrand\u001b[0m\u001b[0;34m)\u001b[0m\u001b[0;34m\u001b[0m\u001b[0;34m\u001b[0m\u001b[0m\n\u001b[0m",
      "\u001b[0;32m<ipython-input-7-4e41a3d9e8bf>\u001b[0m in \u001b[0;36mexperiment_MCMC\u001b[0;34m(fname, n_samples, randomizer, test_size)\u001b[0m\n\u001b[1;32m      8\u001b[0m     \u001b[0mA_mat\u001b[0m\u001b[0;34m,\u001b[0m \u001b[0mb_vec\u001b[0m\u001b[0;34m,\u001b[0m \u001b[0mb_relax\u001b[0m \u001b[0;34m=\u001b[0m \u001b[0mdata\u001b[0m\u001b[0;34m[\u001b[0m\u001b[0;34m'A_mat'\u001b[0m\u001b[0;34m]\u001b[0m\u001b[0;34m,\u001b[0m \u001b[0mdata\u001b[0m\u001b[0;34m[\u001b[0m\u001b[0;34m'b_vec'\u001b[0m\u001b[0;34m]\u001b[0m\u001b[0;34m,\u001b[0m \u001b[0mdata\u001b[0m\u001b[0;34m[\u001b[0m\u001b[0;34m'b_relax'\u001b[0m\u001b[0;34m]\u001b[0m\u001b[0;34m\u001b[0m\u001b[0;34m\u001b[0m\u001b[0m\n\u001b[1;32m      9\u001b[0m     \u001b[0mprint\u001b[0m\u001b[0;34m(\u001b[0m\u001b[0mA_mat\u001b[0m\u001b[0;34m.\u001b[0m\u001b[0mshape\u001b[0m\u001b[0;34m)\u001b[0m\u001b[0;34m\u001b[0m\u001b[0;34m\u001b[0m\u001b[0m\n\u001b[0;32m---> 10\u001b[0;31m     \u001b[0mfeas_pts\u001b[0m \u001b[0;34m=\u001b[0m \u001b[0mvertex_sampler\u001b[0m\u001b[0;34m(\u001b[0m\u001b[0mA_mat\u001b[0m\u001b[0;34m,\u001b[0m \u001b[0mb_vec\u001b[0m\u001b[0;34m,\u001b[0m \u001b[0mn_samples\u001b[0m\u001b[0;34m=\u001b[0m\u001b[0mn_samples\u001b[0m\u001b[0;34m,\u001b[0m \u001b[0mrandomizer\u001b[0m\u001b[0;34m=\u001b[0m\u001b[0mrandomizer\u001b[0m\u001b[0;34m)\u001b[0m\u001b[0;34m\u001b[0m\u001b[0;34m\u001b[0m\u001b[0m\n\u001b[0m\u001b[1;32m     11\u001b[0m \u001b[0;34m\u001b[0m\u001b[0m\n\u001b[1;32m     12\u001b[0m     \u001b[0minit_pt\u001b[0m \u001b[0;34m=\u001b[0m \u001b[0mshake_n_bake_init\u001b[0m\u001b[0;34m(\u001b[0m\u001b[0mA_mat\u001b[0m\u001b[0;34m,\u001b[0m \u001b[0mb_relax\u001b[0m\u001b[0;34m)\u001b[0m\u001b[0;34m\u001b[0m\u001b[0;34m\u001b[0m\u001b[0m\n",
      "\u001b[0;32m<ipython-input-6-9827a6312b7b>\u001b[0m in \u001b[0;36mvertex_sampler\u001b[0;34m(A_mat, b_vec, randomizer, n_samples)\u001b[0m\n\u001b[1;32m      5\u001b[0m     \u001b[0;32mfor\u001b[0m \u001b[0m_\u001b[0m \u001b[0;32min\u001b[0m \u001b[0mrange\u001b[0m\u001b[0;34m(\u001b[0m\u001b[0mn_samples\u001b[0m\u001b[0;34m)\u001b[0m\u001b[0;34m:\u001b[0m\u001b[0;34m\u001b[0m\u001b[0;34m\u001b[0m\u001b[0m\n\u001b[1;32m      6\u001b[0m         \u001b[0mc_vec\u001b[0m \u001b[0;34m=\u001b[0m \u001b[0mrandomizer\u001b[0m\u001b[0;34m(\u001b[0m\u001b[0mn\u001b[0m\u001b[0;34m)\u001b[0m\u001b[0;34m\u001b[0m\u001b[0;34m\u001b[0m\u001b[0m\n\u001b[0;32m----> 7\u001b[0;31m         \u001b[0msol\u001b[0m \u001b[0;34m=\u001b[0m \u001b[0mlinprog\u001b[0m\u001b[0;34m(\u001b[0m\u001b[0mc_vec\u001b[0m\u001b[0;34m,\u001b[0m \u001b[0;34m-\u001b[0m\u001b[0mA_mat\u001b[0m\u001b[0;34m,\u001b[0m \u001b[0;34m-\u001b[0m\u001b[0mb_vec\u001b[0m\u001b[0;34m)\u001b[0m\u001b[0;34m\u001b[0m\u001b[0;34m\u001b[0m\u001b[0m\n\u001b[0m\u001b[1;32m      8\u001b[0m         \u001b[0;32mif\u001b[0m \u001b[0msol\u001b[0m\u001b[0;34m.\u001b[0m\u001b[0msuccess\u001b[0m \u001b[0;34m==\u001b[0m \u001b[0;32mTrue\u001b[0m\u001b[0;34m:\u001b[0m\u001b[0;34m\u001b[0m\u001b[0;34m\u001b[0m\u001b[0m\n\u001b[1;32m      9\u001b[0m             \u001b[0mvertices\u001b[0m\u001b[0;34m.\u001b[0m\u001b[0mappend\u001b[0m\u001b[0;34m(\u001b[0m\u001b[0mnp\u001b[0m\u001b[0;34m.\u001b[0m\u001b[0marray\u001b[0m\u001b[0;34m(\u001b[0m\u001b[0msol\u001b[0m\u001b[0;34m.\u001b[0m\u001b[0mx\u001b[0m\u001b[0;34m)\u001b[0m\u001b[0;34m)\u001b[0m\u001b[0;34m\u001b[0m\u001b[0;34m\u001b[0m\u001b[0m\n",
      "\u001b[0;32m/usr/local/lib/python3.7/site-packages/scipy/optimize/_linprog.py\u001b[0m in \u001b[0;36mlinprog\u001b[0;34m(c, A_ub, b_ub, A_eq, b_eq, bounds, method, callback, options)\u001b[0m\n\u001b[1;32m    476\u001b[0m     x, fun, slack, con, status, message = _postprocess(\n\u001b[1;32m    477\u001b[0m         \u001b[0mx\u001b[0m\u001b[0;34m,\u001b[0m \u001b[0mc_o\u001b[0m\u001b[0;34m,\u001b[0m \u001b[0mA_ub_o\u001b[0m\u001b[0;34m,\u001b[0m \u001b[0mb_ub_o\u001b[0m\u001b[0;34m,\u001b[0m \u001b[0mA_eq_o\u001b[0m\u001b[0;34m,\u001b[0m \u001b[0mb_eq_o\u001b[0m\u001b[0;34m,\u001b[0m \u001b[0mbounds\u001b[0m\u001b[0;34m,\u001b[0m\u001b[0;34m\u001b[0m\u001b[0;34m\u001b[0m\u001b[0m\n\u001b[0;32m--> 478\u001b[0;31m         complete, undo, status, message, tol, iteration, disp)\n\u001b[0m\u001b[1;32m    479\u001b[0m \u001b[0;34m\u001b[0m\u001b[0m\n\u001b[1;32m    480\u001b[0m     sol = {\n",
      "\u001b[0;32m/usr/local/lib/python3.7/site-packages/scipy/optimize/_linprog_util.py\u001b[0m in \u001b[0;36m_postprocess\u001b[0;34m(x, c, A_ub, b_ub, A_eq, b_eq, bounds, complete, undo, status, message, tol, iteration, disp)\u001b[0m\n\u001b[1;32m   1320\u001b[0m     status, message = _check_result(\n\u001b[1;32m   1321\u001b[0m         \u001b[0mx\u001b[0m\u001b[0;34m,\u001b[0m \u001b[0mfun\u001b[0m\u001b[0;34m,\u001b[0m \u001b[0mstatus\u001b[0m\u001b[0;34m,\u001b[0m \u001b[0mslack\u001b[0m\u001b[0;34m,\u001b[0m \u001b[0mcon\u001b[0m\u001b[0;34m,\u001b[0m\u001b[0;34m\u001b[0m\u001b[0;34m\u001b[0m\u001b[0m\n\u001b[0;32m-> 1322\u001b[0;31m         \u001b[0mlb\u001b[0m\u001b[0;34m,\u001b[0m \u001b[0mub\u001b[0m\u001b[0;34m,\u001b[0m \u001b[0mtol\u001b[0m\u001b[0;34m,\u001b[0m \u001b[0mmessage\u001b[0m\u001b[0;34m\u001b[0m\u001b[0;34m\u001b[0m\u001b[0m\n\u001b[0m\u001b[1;32m   1323\u001b[0m     )\n\u001b[1;32m   1324\u001b[0m \u001b[0;34m\u001b[0m\u001b[0m\n",
      "\u001b[0;32m/usr/local/lib/python3.7/site-packages/scipy/optimize/_linprog_util.py\u001b[0m in \u001b[0;36m_check_result\u001b[0;34m(x, fun, status, slack, con, lb, ub, tol, message)\u001b[0m\n\u001b[1;32m   1233\u001b[0m         \u001b[0;31m# nearly basic feasible solution. Postsolving can make the solution\u001b[0m\u001b[0;34m\u001b[0m\u001b[0;34m\u001b[0m\u001b[0;34m\u001b[0m\u001b[0m\n\u001b[1;32m   1234\u001b[0m         \u001b[0;31m#basic, however, this solution is NOT optimal\u001b[0m\u001b[0;34m\u001b[0m\u001b[0;34m\u001b[0m\u001b[0;34m\u001b[0m\u001b[0m\n\u001b[0;32m-> 1235\u001b[0;31m         \u001b[0;32mraise\u001b[0m \u001b[0mValueError\u001b[0m\u001b[0;34m(\u001b[0m\u001b[0mmessage\u001b[0m\u001b[0;34m)\u001b[0m\u001b[0;34m\u001b[0m\u001b[0;34m\u001b[0m\u001b[0m\n\u001b[0m\u001b[1;32m   1236\u001b[0m \u001b[0;34m\u001b[0m\u001b[0m\n\u001b[1;32m   1237\u001b[0m     \u001b[0;32mreturn\u001b[0m \u001b[0mstatus\u001b[0m\u001b[0;34m,\u001b[0m \u001b[0mmessage\u001b[0m\u001b[0;34m\u001b[0m\u001b[0;34m\u001b[0m\u001b[0m\n",
      "\u001b[0;31mValueError\u001b[0m: Phase 1 of the simplex method failed to find a feasible solution. The pseudo-objective function evaluates to 1.2e-12 which exceeds the required tolerance of 1e-12 for a solution to be considered 'close enough' to zero to be a basic solution. Consider increasing the tolerance to be greater than 1.2e-12. If this tolerance is unacceptably  large the problem may be infeasible."
     ]
    }
   ],
   "source": [
    "def experiment_MCMC(\n",
    "        fname, \n",
    "        n_samples=200,\n",
    "        randomizer=np.random.rand,\n",
    "        test_size=0.2,\n",
    "    ):\n",
    "    data = pickle.load(open(fname, 'rb'))\n",
    "    A_mat, b_vec, b_relax = data['A_mat'], data['b_vec'], data['b_relax']\n",
    "    print(A_mat.shape)\n",
    "    feas_pts = vertex_sampler(A_mat, b_vec, n_samples=n_samples, randomizer=randomizer)\n",
    "    \n",
    "    init_pt = shake_n_bake_init(A_mat, b_relax)\n",
    "    dataset = shake_n_bake(A_mat, b_relax, init_pt, n_samples=n_samples, scale=5)\n",
    "    infeas_pts, bd_pts = zip(*dataset)\n",
    "    \n",
    "    train_feas, test_feas, _, _ = train_test_split(feas_pts, np.ones(len(feas_pts)), test_size=test_size)\n",
    "    X = np.vstack((train_feas, infeas_pts))\n",
    "    train_feas_labels = np.array([np.ones(len(train_feas))]).T\n",
    "    train_infeas_labels = np.array([np.zeros(len(infeas_pts))]).T\n",
    "    y = np.vstack(\n",
    "        (train_feas_labels, train_infeas_labels)\n",
    "    )\n",
    "    svc = SVC()\n",
    "    svc.fit(X, y)\n",
    "    print(svc.predict(test_feas))\n",
    "    acc = svc.score(test_feas, np.ones(len(test_feas)))\n",
    "    print(acc)\n",
    "\n",
    "\n",
    "fname = 'miplib/gen-ip054_R1.pickle'\n",
    "experiment_MCMC(fname, n_samples=50, test_size=0.8, randomizer=np.random.rand)"
   ]
  },
  {
   "cell_type": "code",
   "execution_count": 3,
   "metadata": {},
   "outputs": [
    {
     "name": "stdout",
     "output_type": "stream",
     "text": [
      "miplib/neos16_R1.pickle\n"
     ]
    },
    {
     "ename": "NameError",
     "evalue": "name 'experiment_MCMC' is not defined",
     "output_type": "error",
     "traceback": [
      "\u001b[0;31m---------------------------------------------------------------------------\u001b[0m",
      "\u001b[0;31mNameError\u001b[0m                                 Traceback (most recent call last)",
      "\u001b[0;32m<ipython-input-3-8c22171e54f7>\u001b[0m in \u001b[0;36m<module>\u001b[0;34m\u001b[0m\n\u001b[1;32m      8\u001b[0m     \u001b[0;32mif\u001b[0m \u001b[0mfname\u001b[0m\u001b[0;34m.\u001b[0m\u001b[0msuffix\u001b[0m \u001b[0;34m==\u001b[0m \u001b[0;34m'.pickle'\u001b[0m\u001b[0;34m:\u001b[0m\u001b[0;34m\u001b[0m\u001b[0;34m\u001b[0m\u001b[0m\n\u001b[1;32m      9\u001b[0m         \u001b[0mprint\u001b[0m\u001b[0;34m(\u001b[0m\u001b[0mfname\u001b[0m\u001b[0;34m)\u001b[0m\u001b[0;34m\u001b[0m\u001b[0;34m\u001b[0m\u001b[0m\n\u001b[0;32m---> 10\u001b[0;31m         \u001b[0mexperiment_MCMC\u001b[0m\u001b[0;34m(\u001b[0m\u001b[0mfname\u001b[0m\u001b[0;34m,\u001b[0m \u001b[0mn_samples\u001b[0m\u001b[0;34m=\u001b[0m\u001b[0;36m200\u001b[0m\u001b[0;34m)\u001b[0m\u001b[0;34m\u001b[0m\u001b[0;34m\u001b[0m\u001b[0m\n\u001b[0m",
      "\u001b[0;31mNameError\u001b[0m: name 'experiment_MCMC' is not defined"
     ]
    }
   ],
   "source": [
    "from pathlib import Path\n",
    "import pickle\n",
    "\n",
    "# params\n",
    "p = Path('miplib/')\n",
    "\n",
    "for fname in p.iterdir():\n",
    "    if fname.suffix == '.pickle':\n",
    "        print(fname)\n",
    "        experiment_MCMC(fname, n_samples=200)"
   ]
  },
  {
   "cell_type": "code",
   "execution_count": null,
   "metadata": {},
   "outputs": [],
   "source": []
  }
 ],
 "metadata": {
  "kernelspec": {
   "display_name": "Python 3",
   "language": "python",
   "name": "python3"
  },
  "language_info": {
   "codemirror_mode": {
    "name": "ipython",
    "version": 3
   },
   "file_extension": ".py",
   "mimetype": "text/x-python",
   "name": "python",
   "nbconvert_exporter": "python",
   "pygments_lexer": "ipython3",
   "version": "3.7.3"
  }
 },
 "nbformat": 4,
 "nbformat_minor": 2
}
